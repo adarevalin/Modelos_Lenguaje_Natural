{
  "cells": [
    {
      "cell_type": "markdown",
      "metadata": {
        "id": "view-in-github",
        "colab_type": "text"
      },
      "source": [
        "<a href=\"https://colab.research.google.com/github/adarevalin/Modelos_Lenguaje_Natural/blob/main/ANALISIS_DE_SENTIMIENTO.ipynb\" target=\"_parent\"><img src=\"https://colab.research.google.com/assets/colab-badge.svg\" alt=\"Open In Colab\"/></a>"
      ]
    },
    {
      "cell_type": "markdown",
      "metadata": {
        "id": "7vH3HO5v07xw"
      },
      "source": [
        "## ANÁLISIS DE SENTIMIENTO\n"
      ]
    },
    {
      "cell_type": "markdown",
      "metadata": {
        "id": "Xo1BOCIF1ivl"
      },
      "source": [
        "Vamos a realizar un análisis de sentimiento utilizando en conjunto de datos de \"Conjunto de datos de opinión multidominio (versión 2.0)\" ubicados en la pagina https://www.cs.jhu.edu/~mdredze/datasets/sentiment/ en el cual encontraremos datos de opiniones multidominio contiene reseñas de productos tomadas de Amazon.com de muchos tipos de productos (dominios).\n",
        "\n",
        "#Objetivo generales\n",
        "\n",
        "* Entender el conjunto de datos utilizado con el fin de maximizar el análisis posterios de caracteristicas.\n",
        "* Realizar una extracción de las caractetisticas que vamos a utilizar para entrenar los modelos.\n",
        "*  consultar diferentes algoritmos de clasificación con el fin de obtener un buen rendimiento.\n",
        "* validación de los modelos con metricas de prueba.\n",
        "\n",
        "## Objetivos específicos\n",
        "\n",
        "* Cargar el corpus y extraer los datos.\n",
        "* Realizar limpeza de los datos para obtener textos o tokens de interes.\n",
        "* Realizar una extracción de caracteristicas utilizando vectorización, colocaciones o la tecnica que mejor se adapte a nuestro problema.\n",
        "* Entrenar y validar los modelos de aprendizaje automatico.\n",
        "\n",
        "##**Problema**\n",
        "\n",
        "Tenemos que realizar un modelo de inteligencia artificial que me permita clasificar la opinión de un documento (reseñas) como negativas o positivas, esto se va a realizar utilizando \"0\" para negativo y \"1\" para positivo, entonces en base a las reseñas y comentarios dejados vamos a interpretarlos y conseguir que el modelo determine que tanto gusto un dominio o no."
      ]
    },
    {
      "cell_type": "markdown",
      "metadata": {
        "id": "qQLF6Dsz32y3"
      },
      "source": [
        "# Carga de corpus y extraer datos"
      ]
    },
    {
      "cell_type": "markdown",
      "metadata": {
        "id": "gZ2d7tLreUJQ"
      },
      "source": [
        "nota: Puesto que el formato de archivo GZ sirve para comprimir y guardar varios archivos en uno, se utiliza principalmente para entregar archivos comprimidos, programas o instaladores en línea o simplemente para almacenar archivos localmente."
      ]
    },
    {
      "cell_type": "code",
      "execution_count": 40,
      "metadata": {
        "id": "sR6S17Zy4bNV"
      },
      "outputs": [],
      "source": [
        "## Librerias que vamos utilizando\n",
        "import tensorflow as tf\n",
        "import numpy as np\n",
        "from random import shuffle # generar aletoriedad en los set\n",
        "from sklearn.model_selection import train_test_split # para separar los set\n",
        "from urllib import request # para obtener el archivo tar.gz\n",
        "import matplotlib.pyplot as plt # para graficar\n",
        "from IPython import display\n"
      ]
    },
    {
      "cell_type": "code",
      "execution_count": 41,
      "metadata": {
        "colab": {
          "base_uri": "https://localhost:8080/"
        },
        "id": "6cxsc5byx3xu",
        "outputId": "322f368c-56e2-40fa-af23-b1c0da5fc5af"
      },
      "outputs": [
        {
          "output_type": "stream",
          "name": "stderr",
          "text": [
            "[nltk_data] Downloading package punkt to /root/nltk_data...\n",
            "[nltk_data]   Package punkt is already up-to-date!\n",
            "[nltk_data] Downloading package stopwords to /root/nltk_data...\n",
            "[nltk_data]   Package stopwords is already up-to-date!\n",
            "[nltk_data] Downloading package wordnet to /root/nltk_data...\n",
            "[nltk_data]   Package wordnet is already up-to-date!\n"
          ]
        }
      ],
      "source": [
        "import nltk, random # necesaria para tokenizar y random nos permite generar aletoriedad en los datos.\n",
        "nltk.download('punkt')  # Descarga de recursos para tokenización, ejecutar solo una vez\n",
        "\n",
        "from nltk import word_tokenize  # Tokenización de palabras\n",
        "\n",
        "from nltk.corpus import stopwords\n",
        "nltk.download('stopwords')  # Descarga de recursos para palabras vacías, ejecutar solo una vez\n",
        "stop_words = set(stopwords.words('english'))\n",
        "from nltk.util import bigrams # importar de nltk los bigrams\n",
        "from nltk.stem import WordNetLemmatizer\n",
        "\n",
        "nltk.download('wordnet')\n",
        "\n",
        "stop_words = set(stopwords.words('english'))\n",
        "lemmatizer = WordNetLemmatizer()"
      ]
    },
    {
      "cell_type": "code",
      "execution_count": 42,
      "metadata": {
        "colab": {
          "base_uri": "https://localhost:8080/"
        },
        "id": "J-3hvK8j5GeM",
        "outputId": "15d52c1b-cbb6-40f4-8d59-790dd631d80b"
      },
      "outputs": [
        {
          "output_type": "execute_result",
          "data": {
            "text/plain": [
              "('processed_acl.tar.gz', <http.client.HTTPMessage at 0x78904ff57040>)"
            ]
          },
          "metadata": {},
          "execution_count": 42
        }
      ],
      "source": [
        "request.urlretrieve(\"http://www.cs.jhu.edu/~mdredze/datasets/sentiment/processed_acl.tar.gz\", \"processed_acl.tar.gz\") # obtenemos el archivo de internet\n"
      ]
    },
    {
      "cell_type": "code",
      "execution_count": 43,
      "metadata": {
        "colab": {
          "base_uri": "https://localhost:8080/"
        },
        "id": "ZYd4vRKSZ9tJ",
        "outputId": "18106e56-b02b-4eb7-a6fb-016af28d357b"
      },
      "outputs": [
        {
          "output_type": "stream",
          "name": "stdout",
          "text": [
            "processed_acl/\n",
            "processed_acl/dvd/\n",
            "processed_acl/dvd/negative.review\n",
            "processed_acl/dvd/unlabeled.review\n",
            "processed_acl/dvd/positive.review\n",
            "processed_acl/books/\n",
            "processed_acl/books/negative.review\n",
            "processed_acl/books/unlabeled.review\n",
            "processed_acl/books/positive.review\n",
            "processed_acl/kitchen/\n",
            "processed_acl/kitchen/negative.review\n",
            "processed_acl/kitchen/unlabeled.review\n",
            "processed_acl/kitchen/positive.review\n",
            "processed_acl/electronics/\n",
            "processed_acl/electronics/negative.review\n",
            "processed_acl/electronics/unlabeled.review\n",
            "processed_acl/electronics/positive.review\n"
          ]
        }
      ],
      "source": [
        "!tar xvzf processed_acl.tar.gz # para cargar lso datos en el entorno de trabajo"
      ]
    },
    {
      "cell_type": "markdown",
      "metadata": {
        "id": "Tm_hnrB6euoY"
      },
      "source": [
        "Se crea una función que va a extraer los datos."
      ]
    },
    {
      "cell_type": "markdown",
      "metadata": {
        "id": "4JWXzeLdjvoy"
      },
      "source": [
        "nota. Formato de archivo REVIEW: Cada archivo tiene un formato de archivo definido, es decir, cómo se organizan los datos en el archivo. Los primeros caracteres de un archivo identifican el formato del archivo, por ejemplo, los archivos html comienzan con los bytes <html>. 10% de todos los archivos REVIEW comienzan con los bytes mágicos avid:1 your:1 horrible_book:1 wasted:1 use_it:1 the_entire, que son siempre los primeros bytes de este formato de archivo. Estos archivos son texto sin formato.  Casi siempre se encuentran algunas palabras en los archivos, como avid:1 your:1 horrible_book:1 wasted:1 use_it:1 the_entire:1 money.i:1 i_lit:1 i_read:1 lit:1 i_would:1 relationship:1 read:1 a_<num>:1 reader_and:1 reader:1 suffering:1 fire_one:1 i_had:1 year_old:2. El siguiente nombre de archivo es común: negative.review."
      ]
    },
    {
      "cell_type": "code",
      "execution_count": 44,
      "metadata": {
        "id": "qrExc12lx_Yg"
      },
      "outputs": [],
      "source": [
        "# Estas expresiones regulares me ayudan hacer busquedas y filtrar las palabras importantes.\n",
        "\n",
        "pattern = r'''(?x)                 # establecer bandera para permitir expresiones regulares detalladas\n",
        "              (?:[A-Z]\\.)+         # abreviaturas, ejemplo (U.S.A.)\n",
        "              |\\w+(?:-\\w+)*       # palabras con guiones internos opcionales\n",
        "              |\\$?\\d+(?:\\.\\d+)?%? # moneda y porcentajes, ejemplo ($12.40, 82%)\n",
        "              |\\.\\.\\.             # elipsis\n",
        "              |[][.,;\"'?():-_`]   # éstas son fichas separadas; incluye ], [\n",
        "'''"
      ]
    },
    {
      "cell_type": "code",
      "source": [
        "# esta funcion realiza el proceso de tokenizar, limpiar y obtener las raices de las palabras\n",
        "def lemetizar (tokens):\n",
        "    # Filtrar palabras: eliminar stopwords y palabras con longitud menor o igual a 3, excepto las dos últimas\n",
        "    stop_words_filtered = [palabra for palabra in tokens if palabra.lower() not in stop_words and len(palabra) > 3]#[:-2]\n",
        "\n",
        "    # Filtrar palabras con formato palabra:número\n",
        "    words_number_filtered = [word for word in stop_words_filtered if ':' not in word]\n",
        "\n",
        "    # Filtrar y separar las palabras de '_'\n",
        "    words_point = [word.split('_') for word in tokens]\n",
        "    words_point_filtered = []\n",
        "    for sublist in words_point:\n",
        "        words_point_filtered.extend(sublist)\n",
        "\n",
        "    # Filtrar y separar las palabras de '-'\n",
        "    words_point_2 = []\n",
        "    for word in words_point_filtered:\n",
        "        words_point_2.extend(word.split('-'))\n",
        "\n",
        "\n",
        "    stopWords_filtered = [word for word in words_point_2 if word not in stop_words and len(word) > 3]\n",
        "\n",
        "    lemmatized_words = [lemmatizer.lemmatize(word) for word in stopWords_filtered]  # Lematización\n",
        "\n",
        "    return lemmatized_words # obtenemos raices de cada palabra"
      ],
      "metadata": {
        "id": "8imL5mHRZ18L"
      },
      "execution_count": 45,
      "outputs": []
    },
    {
      "cell_type": "markdown",
      "source": [
        "Debemos crear una función que realice el pre-procesamiento de los datos."
      ],
      "metadata": {
        "id": "2W4I7eJVGaXm"
      }
    },
    {
      "cell_type": "code",
      "execution_count": 46,
      "metadata": {
        "id": "FtvD-pGZab8o"
      },
      "outputs": [],
      "source": [
        "\n",
        "def preprocess(filename):\n",
        "\n",
        "    with open(filename, 'r') as f: # with muy importante para cerrar archivos binarios\n",
        "        raw_text = f.read() # leemos los archivos del .tar\n",
        "        raw_text = raw_text.split('\\n') # cuando tenemos un salto de linea, el text hace una separacion, esto lo podemos ver gracias a la estructura del texto\n",
        "\n",
        "        processed_words = []\n",
        "        Set_words = []\n",
        "\n",
        "        for text in raw_text:\n",
        "            if text.strip():\n",
        "                tokens = nltk.regexp_tokenize(text, pattern)  # Tokeniza y realiza filtro con expresiones regulares\n",
        "\n",
        "                lemaWords = lemetizar(tokens) # utilizamos la funcion para limpieza\n",
        "\n",
        "                for LWords in lemaWords:\n",
        "                    #if LWords not in Set_words:\n",
        "                    Set_words.append(LWords)\n",
        "\n",
        "\n",
        "                # Determinar el label\n",
        "                label = 0 if lemaWords[-1] == 'negative' else 1\n",
        "\n",
        "                # Agregar las palabras procesadas al conjunto\n",
        "                processed_words.append((lemaWords, label))\n",
        "\n",
        "\n",
        "    return processed_words, Set_words"
      ]
    },
    {
      "cell_type": "markdown",
      "metadata": {
        "id": "wSK3g4zsB63n"
      },
      "source": [
        "Se crean las lista tanto de positivos como de negativos y el set de palabras de cada uno `Tener presente que los datos se estan utilizando son de libros`"
      ]
    },
    {
      "cell_type": "code",
      "execution_count": 47,
      "metadata": {
        "id": "Sk22ohA8a4fw"
      },
      "outputs": [],
      "source": [
        "negative_words_set, Set_words_negative = preprocess('/content/processed_acl/books/negative.review') # datos negtivos\n",
        "positive_words_set, Set_words_positive = preprocess('/content/processed_acl/books/positive.review') # datos positivos\n"
      ]
    },
    {
      "cell_type": "markdown",
      "source": [
        "Vamos a encontrar las palabras mas valiosas de cada set, para hacer esto creamos una función que me permite comparar y eliminar palabras que se compartan en las dos lista dejando solo palabras valiosas para cada set, diferenciales."
      ],
      "metadata": {
        "id": "riNF7oWzj8F5"
      }
    },
    {
      "cell_type": "code",
      "source": [
        "def eliminar_palabras_comunes(lista1, lista2): # cargamos las dos listas\n",
        "    set_lista1 = set(lista1) # filtramos valores unicos\n",
        "    set_lista2 = set(lista2) # filtramos valores unicos\n",
        "\n",
        "    palabras_en_lista1_solo = set_lista1 - set_lista2 # esto es importante restamos la lista 1 de la lista 2\n",
        "\n",
        "    return list(palabras_en_lista1_solo)\n",
        "\n",
        "top_Words_neg = eliminar_palabras_comunes(Set_words_negative, Set_words_positive) # se componen de 6006\n",
        "top_Words_pos = eliminar_palabras_comunes(Set_words_positive, Set_words_negative)\n",
        "\n",
        "#Nota. obtenemos lista utiles y balanceadas para cada label"
      ],
      "metadata": {
        "id": "TNDHwin5lDWL"
      },
      "execution_count": 48,
      "outputs": []
    },
    {
      "cell_type": "code",
      "source": [
        "len(top_Words_neg)"
      ],
      "metadata": {
        "colab": {
          "base_uri": "https://localhost:8080/"
        },
        "id": "3Yhpjck8SCah",
        "outputId": "cebedf8e-45ab-44ea-ea06-309e8e20e63f"
      },
      "execution_count": 49,
      "outputs": [
        {
          "output_type": "execute_result",
          "data": {
            "text/plain": [
              "6006"
            ]
          },
          "metadata": {},
          "execution_count": 49
        }
      ]
    },
    {
      "cell_type": "code",
      "source": [
        "len(top_Words_pos)"
      ],
      "metadata": {
        "colab": {
          "base_uri": "https://localhost:8080/"
        },
        "id": "050A29CtiTa6",
        "outputId": "63dafff0-5093-411f-b40e-1c48a2aa560d"
      },
      "execution_count": 50,
      "outputs": [
        {
          "output_type": "execute_result",
          "data": {
            "text/plain": [
              "6192"
            ]
          },
          "metadata": {},
          "execution_count": 50
        }
      ]
    },
    {
      "cell_type": "code",
      "source": [
        "List_Words = top_Words_neg + top_Words_pos ## Unimos las dos listas una sola la cual vamos a utilizar mas adelante para comparar"
      ],
      "metadata": {
        "id": "cSZcw6MHNoA5"
      },
      "execution_count": 51,
      "outputs": []
    },
    {
      "cell_type": "markdown",
      "source": [
        "Vamos a procesar  las listas de los set y crear n-gramas, filtrando y dejando como los `trigramas` que tengan palabras de los top_words tanto para etiquetas positivas como etiquetas negativas."
      ],
      "metadata": {
        "id": "Ei9xCt37mhdP"
      }
    },
    {
      "cell_type": "code",
      "source": [
        "def procesar_ngramas(words_set, top_words): # cargamos los set de los documentos y sus palabras y la lista de top palabras de cada uno\n",
        "    Data = []\n",
        "    for lista, label in words_set: # extraemos cada reseña y cargamos las palabras\n",
        "        processed = []\n",
        "        for palabra in lista: # miramos cada palabra\n",
        "            if palabra in top_words: # verificamos si la palabra esta en las top_words\n",
        "                processed.append(palabra) # si esta añadimos la palabra a una lista interna\n",
        "\n",
        "        processed = list(set(processed)) # Eliminar duplicados usando un conjunto\n",
        "        if processed:  # Verificar si la lista no está vacía\n",
        "            Data.append((processed, label)) # añadimos la lista a un set\n",
        "\n",
        "    return Data\n",
        "\n",
        "negative_top = procesar_ngramas(negative_words_set, top_Words_neg) # obtenemos una lista con palabras importantes y sus etiquetas\n",
        "positive_top = procesar_ngramas(positive_words_set, top_Words_pos)\n"
      ],
      "metadata": {
        "id": "8Ar3VZyDmgR2"
      },
      "execution_count": 52,
      "outputs": []
    },
    {
      "cell_type": "code",
      "source": [
        "# Crear trigramas con NLTK\n",
        "from nltk.util import ngrams\n",
        "\n",
        "def crear_trigramas(data):\n",
        "    trigramas = []\n",
        "    for words, label in data: # separamos los datos y sus etiquetas\n",
        "        trigramas.extend([(ngram, label) for ngram in list(nltk.ngrams(words, 3))]) #Creamos trigramas para eso se miran todos los posibles casos con las palabras de data\n",
        "    return trigramas # añadimos esos trigramas y etiquetas\n",
        "\n",
        "# Procesar los n-gramas de las palabras positivas\n",
        "negative_trigrams = crear_trigramas(negative_top)\n",
        "positive_trigrams = crear_trigramas(positive_top) # obtenemos casi 6000 trigrams"
      ],
      "metadata": {
        "id": "Cpc9ZktdKSQy"
      },
      "execution_count": 53,
      "outputs": []
    },
    {
      "cell_type": "markdown",
      "source": [
        "Nota. en este arreglo tenemos los trigramas mas relevantes, junto con sus etiquetas y todos los datos dispersos de manera aleatoria"
      ],
      "metadata": {
        "id": "0tZKoPU6zQOw"
      }
    },
    {
      "cell_type": "code",
      "source": [
        "Datos = negative_trigrams + positive_trigrams\n",
        "random.shuffle(Datos) # con la funcion random creamos aletoriedad."
      ],
      "metadata": {
        "id": "iHzD61t2yyCj"
      },
      "execution_count": 54,
      "outputs": []
    },
    {
      "cell_type": "markdown",
      "source": [
        "# Empezamos el procesamiento de los datos, vectorización, codificación y padding\n"
      ],
      "metadata": {
        "id": "nBFizIdfDfFv"
      }
    },
    {
      "cell_type": "markdown",
      "source": [
        "Se codifica todas las palabras tanto negativas como positivas, se realiza un proceso de padding para crear un array homogeneo\n",
        "y tambien obtenemos las etiquetas."
      ],
      "metadata": {
        "id": "DRZA8o-bEt44"
      }
    },
    {
      "cell_type": "code",
      "source": [
        "from tensorflow.keras.preprocessing.text import Tokenizer\n",
        "\n",
        "#El grupo de palabras se crea en base a la frecuencia al poner corpus fit_ontexts().\n",
        "## ESTE TOKENIZADOR ENTRENADO ES IMPORTANTE PORQUE CUENTA CON LA LISTA DE TODAS LAS PALABRAS CODIFICADAS##\n",
        "\n",
        "tokenizer = Tokenizer() # instanciamos\n",
        "tokenizer.fit_on_texts(List_Words) # pasamos todas la palabras relevantes que estan en el data y las codificamos\n",
        "\n",
        "def encoded (sentence):\n",
        "\n",
        "    code = tokenizer.texts_to_sequences(sentence) #vamos codificando cada trigrama\n",
        "\n",
        "    return code"
      ],
      "metadata": {
        "id": "d0Po2gscFLup"
      },
      "execution_count": 55,
      "outputs": []
    },
    {
      "cell_type": "code",
      "execution_count": 56,
      "metadata": {
        "id": "RUKkNFVy6kjo"
      },
      "outputs": [],
      "source": [
        "Encoded = []\n",
        "Label = []\n",
        "\n",
        "for word, label in Datos: # cargamos nuestros datos\n",
        "\n",
        "    if word: # verificamos si no esta vacio\n",
        "        WordCode = encoded(word) # pasamos cada trigrama para codificar\n",
        "        if len(WordCode) == 3 and WordCode != None: # verififcamos que tenga lungitud de 3 y no este vacio\n",
        "            Code = []\n",
        "            for palabra in WordCode: #obtenemos cada palabra para crear una lista\n",
        "                Code.extend(palabra) # pasamos toda la lista con formato [1,2,3]\n",
        "            Encoded.append(Code) #pasamos la lista para crear una lista de listas\n",
        "            Label.append(label) # agregamos su etiqueta\n",
        "\n",
        "#Obtener las longitudes de todas las secuencias en todas las sublistas\n",
        "sequence_lengths = max([len(sublist) for sublist in Encoded]) # max es 3\n"
      ]
    },
    {
      "cell_type": "code",
      "source": [
        "padded = []\n",
        "for item in Encoded: # Para cada lista\n",
        "    while len(item) < sequence_lengths: # mientras sea menor que la lungitud maxima\n",
        "        item.append(0) # agregamos ceros para normaizar\n",
        "    padded.append(item)  # agregamos la lista\n"
      ],
      "metadata": {
        "id": "jB7jGpbDuqGM"
      },
      "execution_count": 57,
      "outputs": []
    },
    {
      "cell_type": "code",
      "source": [
        "X = np.array(padded) # creamos una matriz de datos\n",
        "y = Label # y sus etiquetas"
      ],
      "metadata": {
        "id": "NkWyd6Ilw51X"
      },
      "execution_count": 58,
      "outputs": []
    },
    {
      "cell_type": "markdown",
      "metadata": {
        "id": "TfD6SQW_luUw"
      },
      "source": [
        "# Entrenamiento y visualización de los datos"
      ]
    },
    {
      "cell_type": "markdown",
      "source": [
        "## Entrenamiento con DecisionTreeClassifier"
      ],
      "metadata": {
        "id": "_aXTdhLH5EmF"
      }
    },
    {
      "cell_type": "code",
      "source": [
        "# prompt: split de train y test con sklearn\n",
        "\n",
        "X_train, X_test, y_train, y_test = train_test_split(X, y, test_size=0.2)\n"
      ],
      "metadata": {
        "id": "TEJrZJQJyvyb"
      },
      "execution_count": 59,
      "outputs": []
    },
    {
      "cell_type": "code",
      "source": [
        "# prompt: arbol de decision para x_train\n",
        "\n",
        "from sklearn.tree import DecisionTreeClassifier\n",
        "\n",
        "arbol = DecisionTreeClassifier()\n",
        "arbol.fit(X_train, y_train)\n"
      ],
      "metadata": {
        "colab": {
          "base_uri": "https://localhost:8080/",
          "height": 75
        },
        "id": "716sXTF1oMk5",
        "outputId": "c21819b5-28ec-4082-908a-f23a6a3498f0"
      },
      "execution_count": 60,
      "outputs": [
        {
          "output_type": "execute_result",
          "data": {
            "text/plain": [
              "DecisionTreeClassifier()"
            ],
            "text/html": [
              "<style>#sk-container-id-2 {color: black;background-color: white;}#sk-container-id-2 pre{padding: 0;}#sk-container-id-2 div.sk-toggleable {background-color: white;}#sk-container-id-2 label.sk-toggleable__label {cursor: pointer;display: block;width: 100%;margin-bottom: 0;padding: 0.3em;box-sizing: border-box;text-align: center;}#sk-container-id-2 label.sk-toggleable__label-arrow:before {content: \"▸\";float: left;margin-right: 0.25em;color: #696969;}#sk-container-id-2 label.sk-toggleable__label-arrow:hover:before {color: black;}#sk-container-id-2 div.sk-estimator:hover label.sk-toggleable__label-arrow:before {color: black;}#sk-container-id-2 div.sk-toggleable__content {max-height: 0;max-width: 0;overflow: hidden;text-align: left;background-color: #f0f8ff;}#sk-container-id-2 div.sk-toggleable__content pre {margin: 0.2em;color: black;border-radius: 0.25em;background-color: #f0f8ff;}#sk-container-id-2 input.sk-toggleable__control:checked~div.sk-toggleable__content {max-height: 200px;max-width: 100%;overflow: auto;}#sk-container-id-2 input.sk-toggleable__control:checked~label.sk-toggleable__label-arrow:before {content: \"▾\";}#sk-container-id-2 div.sk-estimator input.sk-toggleable__control:checked~label.sk-toggleable__label {background-color: #d4ebff;}#sk-container-id-2 div.sk-label input.sk-toggleable__control:checked~label.sk-toggleable__label {background-color: #d4ebff;}#sk-container-id-2 input.sk-hidden--visually {border: 0;clip: rect(1px 1px 1px 1px);clip: rect(1px, 1px, 1px, 1px);height: 1px;margin: -1px;overflow: hidden;padding: 0;position: absolute;width: 1px;}#sk-container-id-2 div.sk-estimator {font-family: monospace;background-color: #f0f8ff;border: 1px dotted black;border-radius: 0.25em;box-sizing: border-box;margin-bottom: 0.5em;}#sk-container-id-2 div.sk-estimator:hover {background-color: #d4ebff;}#sk-container-id-2 div.sk-parallel-item::after {content: \"\";width: 100%;border-bottom: 1px solid gray;flex-grow: 1;}#sk-container-id-2 div.sk-label:hover label.sk-toggleable__label {background-color: #d4ebff;}#sk-container-id-2 div.sk-serial::before {content: \"\";position: absolute;border-left: 1px solid gray;box-sizing: border-box;top: 0;bottom: 0;left: 50%;z-index: 0;}#sk-container-id-2 div.sk-serial {display: flex;flex-direction: column;align-items: center;background-color: white;padding-right: 0.2em;padding-left: 0.2em;position: relative;}#sk-container-id-2 div.sk-item {position: relative;z-index: 1;}#sk-container-id-2 div.sk-parallel {display: flex;align-items: stretch;justify-content: center;background-color: white;position: relative;}#sk-container-id-2 div.sk-item::before, #sk-container-id-2 div.sk-parallel-item::before {content: \"\";position: absolute;border-left: 1px solid gray;box-sizing: border-box;top: 0;bottom: 0;left: 50%;z-index: -1;}#sk-container-id-2 div.sk-parallel-item {display: flex;flex-direction: column;z-index: 1;position: relative;background-color: white;}#sk-container-id-2 div.sk-parallel-item:first-child::after {align-self: flex-end;width: 50%;}#sk-container-id-2 div.sk-parallel-item:last-child::after {align-self: flex-start;width: 50%;}#sk-container-id-2 div.sk-parallel-item:only-child::after {width: 0;}#sk-container-id-2 div.sk-dashed-wrapped {border: 1px dashed gray;margin: 0 0.4em 0.5em 0.4em;box-sizing: border-box;padding-bottom: 0.4em;background-color: white;}#sk-container-id-2 div.sk-label label {font-family: monospace;font-weight: bold;display: inline-block;line-height: 1.2em;}#sk-container-id-2 div.sk-label-container {text-align: center;}#sk-container-id-2 div.sk-container {/* jupyter's `normalize.less` sets `[hidden] { display: none; }` but bootstrap.min.css set `[hidden] { display: none !important; }` so we also need the `!important` here to be able to override the default hidden behavior on the sphinx rendered scikit-learn.org. See: https://github.com/scikit-learn/scikit-learn/issues/21755 */display: inline-block !important;position: relative;}#sk-container-id-2 div.sk-text-repr-fallback {display: none;}</style><div id=\"sk-container-id-2\" class=\"sk-top-container\"><div class=\"sk-text-repr-fallback\"><pre>DecisionTreeClassifier()</pre><b>In a Jupyter environment, please rerun this cell to show the HTML representation or trust the notebook. <br />On GitHub, the HTML representation is unable to render, please try loading this page with nbviewer.org.</b></div><div class=\"sk-container\" hidden><div class=\"sk-item\"><div class=\"sk-estimator sk-toggleable\"><input class=\"sk-toggleable__control sk-hidden--visually\" id=\"sk-estimator-id-2\" type=\"checkbox\" checked><label for=\"sk-estimator-id-2\" class=\"sk-toggleable__label sk-toggleable__label-arrow\">DecisionTreeClassifier</label><div class=\"sk-toggleable__content\"><pre>DecisionTreeClassifier()</pre></div></div></div></div></div>"
            ]
          },
          "metadata": {},
          "execution_count": 60
        }
      ]
    },
    {
      "cell_type": "code",
      "source": [
        "# prompt: quiero  ver las matricas de decempeño con el X_test\n",
        "\n",
        "from sklearn.metrics import confusion_matrix\n",
        "import pandas as pd\n",
        "\n",
        "y_pred = arbol.predict(X_test)\n",
        "\n",
        "cm = confusion_matrix(y_test, y_pred)\n",
        "\n",
        "pd.crosstab(y_test, y_pred, rownames=['Actual'], colnames=['Predicted'])\n"
      ],
      "metadata": {
        "colab": {
          "base_uri": "https://localhost:8080/",
          "height": 143
        },
        "id": "WYCBpE6D_DaY",
        "outputId": "7ce813ff-502b-4a4d-b565-8fd1fd063e3e"
      },
      "execution_count": 61,
      "outputs": [
        {
          "output_type": "execute_result",
          "data": {
            "text/plain": [
              "Predicted     0     1\n",
              "Actual               \n",
              "0          1220     0\n",
              "1             0  1286"
            ],
            "text/html": [
              "\n",
              "  <div id=\"df-b53b2eaa-cd9e-410e-a8fa-c80f1a220df4\" class=\"colab-df-container\">\n",
              "    <div>\n",
              "<style scoped>\n",
              "    .dataframe tbody tr th:only-of-type {\n",
              "        vertical-align: middle;\n",
              "    }\n",
              "\n",
              "    .dataframe tbody tr th {\n",
              "        vertical-align: top;\n",
              "    }\n",
              "\n",
              "    .dataframe thead th {\n",
              "        text-align: right;\n",
              "    }\n",
              "</style>\n",
              "<table border=\"1\" class=\"dataframe\">\n",
              "  <thead>\n",
              "    <tr style=\"text-align: right;\">\n",
              "      <th>Predicted</th>\n",
              "      <th>0</th>\n",
              "      <th>1</th>\n",
              "    </tr>\n",
              "    <tr>\n",
              "      <th>Actual</th>\n",
              "      <th></th>\n",
              "      <th></th>\n",
              "    </tr>\n",
              "  </thead>\n",
              "  <tbody>\n",
              "    <tr>\n",
              "      <th>0</th>\n",
              "      <td>1220</td>\n",
              "      <td>0</td>\n",
              "    </tr>\n",
              "    <tr>\n",
              "      <th>1</th>\n",
              "      <td>0</td>\n",
              "      <td>1286</td>\n",
              "    </tr>\n",
              "  </tbody>\n",
              "</table>\n",
              "</div>\n",
              "    <div class=\"colab-df-buttons\">\n",
              "\n",
              "  <div class=\"colab-df-container\">\n",
              "    <button class=\"colab-df-convert\" onclick=\"convertToInteractive('df-b53b2eaa-cd9e-410e-a8fa-c80f1a220df4')\"\n",
              "            title=\"Convert this dataframe to an interactive table.\"\n",
              "            style=\"display:none;\">\n",
              "\n",
              "  <svg xmlns=\"http://www.w3.org/2000/svg\" height=\"24px\" viewBox=\"0 -960 960 960\">\n",
              "    <path d=\"M120-120v-720h720v720H120Zm60-500h600v-160H180v160Zm220 220h160v-160H400v160Zm0 220h160v-160H400v160ZM180-400h160v-160H180v160Zm440 0h160v-160H620v160ZM180-180h160v-160H180v160Zm440 0h160v-160H620v160Z\"/>\n",
              "  </svg>\n",
              "    </button>\n",
              "\n",
              "  <style>\n",
              "    .colab-df-container {\n",
              "      display:flex;\n",
              "      gap: 12px;\n",
              "    }\n",
              "\n",
              "    .colab-df-convert {\n",
              "      background-color: #E8F0FE;\n",
              "      border: none;\n",
              "      border-radius: 50%;\n",
              "      cursor: pointer;\n",
              "      display: none;\n",
              "      fill: #1967D2;\n",
              "      height: 32px;\n",
              "      padding: 0 0 0 0;\n",
              "      width: 32px;\n",
              "    }\n",
              "\n",
              "    .colab-df-convert:hover {\n",
              "      background-color: #E2EBFA;\n",
              "      box-shadow: 0px 1px 2px rgba(60, 64, 67, 0.3), 0px 1px 3px 1px rgba(60, 64, 67, 0.15);\n",
              "      fill: #174EA6;\n",
              "    }\n",
              "\n",
              "    .colab-df-buttons div {\n",
              "      margin-bottom: 4px;\n",
              "    }\n",
              "\n",
              "    [theme=dark] .colab-df-convert {\n",
              "      background-color: #3B4455;\n",
              "      fill: #D2E3FC;\n",
              "    }\n",
              "\n",
              "    [theme=dark] .colab-df-convert:hover {\n",
              "      background-color: #434B5C;\n",
              "      box-shadow: 0px 1px 3px 1px rgba(0, 0, 0, 0.15);\n",
              "      filter: drop-shadow(0px 1px 2px rgba(0, 0, 0, 0.3));\n",
              "      fill: #FFFFFF;\n",
              "    }\n",
              "  </style>\n",
              "\n",
              "    <script>\n",
              "      const buttonEl =\n",
              "        document.querySelector('#df-b53b2eaa-cd9e-410e-a8fa-c80f1a220df4 button.colab-df-convert');\n",
              "      buttonEl.style.display =\n",
              "        google.colab.kernel.accessAllowed ? 'block' : 'none';\n",
              "\n",
              "      async function convertToInteractive(key) {\n",
              "        const element = document.querySelector('#df-b53b2eaa-cd9e-410e-a8fa-c80f1a220df4');\n",
              "        const dataTable =\n",
              "          await google.colab.kernel.invokeFunction('convertToInteractive',\n",
              "                                                    [key], {});\n",
              "        if (!dataTable) return;\n",
              "\n",
              "        const docLinkHtml = 'Like what you see? Visit the ' +\n",
              "          '<a target=\"_blank\" href=https://colab.research.google.com/notebooks/data_table.ipynb>data table notebook</a>'\n",
              "          + ' to learn more about interactive tables.';\n",
              "        element.innerHTML = '';\n",
              "        dataTable['output_type'] = 'display_data';\n",
              "        await google.colab.output.renderOutput(dataTable, element);\n",
              "        const docLink = document.createElement('div');\n",
              "        docLink.innerHTML = docLinkHtml;\n",
              "        element.appendChild(docLink);\n",
              "      }\n",
              "    </script>\n",
              "  </div>\n",
              "\n",
              "\n",
              "<div id=\"df-698b45e7-a541-4979-adca-fc1bc39050c6\">\n",
              "  <button class=\"colab-df-quickchart\" onclick=\"quickchart('df-698b45e7-a541-4979-adca-fc1bc39050c6')\"\n",
              "            title=\"Suggest charts\"\n",
              "            style=\"display:none;\">\n",
              "\n",
              "<svg xmlns=\"http://www.w3.org/2000/svg\" height=\"24px\"viewBox=\"0 0 24 24\"\n",
              "     width=\"24px\">\n",
              "    <g>\n",
              "        <path d=\"M19 3H5c-1.1 0-2 .9-2 2v14c0 1.1.9 2 2 2h14c1.1 0 2-.9 2-2V5c0-1.1-.9-2-2-2zM9 17H7v-7h2v7zm4 0h-2V7h2v10zm4 0h-2v-4h2v4z\"/>\n",
              "    </g>\n",
              "</svg>\n",
              "  </button>\n",
              "\n",
              "<style>\n",
              "  .colab-df-quickchart {\n",
              "      --bg-color: #E8F0FE;\n",
              "      --fill-color: #1967D2;\n",
              "      --hover-bg-color: #E2EBFA;\n",
              "      --hover-fill-color: #174EA6;\n",
              "      --disabled-fill-color: #AAA;\n",
              "      --disabled-bg-color: #DDD;\n",
              "  }\n",
              "\n",
              "  [theme=dark] .colab-df-quickchart {\n",
              "      --bg-color: #3B4455;\n",
              "      --fill-color: #D2E3FC;\n",
              "      --hover-bg-color: #434B5C;\n",
              "      --hover-fill-color: #FFFFFF;\n",
              "      --disabled-bg-color: #3B4455;\n",
              "      --disabled-fill-color: #666;\n",
              "  }\n",
              "\n",
              "  .colab-df-quickchart {\n",
              "    background-color: var(--bg-color);\n",
              "    border: none;\n",
              "    border-radius: 50%;\n",
              "    cursor: pointer;\n",
              "    display: none;\n",
              "    fill: var(--fill-color);\n",
              "    height: 32px;\n",
              "    padding: 0;\n",
              "    width: 32px;\n",
              "  }\n",
              "\n",
              "  .colab-df-quickchart:hover {\n",
              "    background-color: var(--hover-bg-color);\n",
              "    box-shadow: 0 1px 2px rgba(60, 64, 67, 0.3), 0 1px 3px 1px rgba(60, 64, 67, 0.15);\n",
              "    fill: var(--button-hover-fill-color);\n",
              "  }\n",
              "\n",
              "  .colab-df-quickchart-complete:disabled,\n",
              "  .colab-df-quickchart-complete:disabled:hover {\n",
              "    background-color: var(--disabled-bg-color);\n",
              "    fill: var(--disabled-fill-color);\n",
              "    box-shadow: none;\n",
              "  }\n",
              "\n",
              "  .colab-df-spinner {\n",
              "    border: 2px solid var(--fill-color);\n",
              "    border-color: transparent;\n",
              "    border-bottom-color: var(--fill-color);\n",
              "    animation:\n",
              "      spin 1s steps(1) infinite;\n",
              "  }\n",
              "\n",
              "  @keyframes spin {\n",
              "    0% {\n",
              "      border-color: transparent;\n",
              "      border-bottom-color: var(--fill-color);\n",
              "      border-left-color: var(--fill-color);\n",
              "    }\n",
              "    20% {\n",
              "      border-color: transparent;\n",
              "      border-left-color: var(--fill-color);\n",
              "      border-top-color: var(--fill-color);\n",
              "    }\n",
              "    30% {\n",
              "      border-color: transparent;\n",
              "      border-left-color: var(--fill-color);\n",
              "      border-top-color: var(--fill-color);\n",
              "      border-right-color: var(--fill-color);\n",
              "    }\n",
              "    40% {\n",
              "      border-color: transparent;\n",
              "      border-right-color: var(--fill-color);\n",
              "      border-top-color: var(--fill-color);\n",
              "    }\n",
              "    60% {\n",
              "      border-color: transparent;\n",
              "      border-right-color: var(--fill-color);\n",
              "    }\n",
              "    80% {\n",
              "      border-color: transparent;\n",
              "      border-right-color: var(--fill-color);\n",
              "      border-bottom-color: var(--fill-color);\n",
              "    }\n",
              "    90% {\n",
              "      border-color: transparent;\n",
              "      border-bottom-color: var(--fill-color);\n",
              "    }\n",
              "  }\n",
              "</style>\n",
              "\n",
              "  <script>\n",
              "    async function quickchart(key) {\n",
              "      const quickchartButtonEl =\n",
              "        document.querySelector('#' + key + ' button');\n",
              "      quickchartButtonEl.disabled = true;  // To prevent multiple clicks.\n",
              "      quickchartButtonEl.classList.add('colab-df-spinner');\n",
              "      try {\n",
              "        const charts = await google.colab.kernel.invokeFunction(\n",
              "            'suggestCharts', [key], {});\n",
              "      } catch (error) {\n",
              "        console.error('Error during call to suggestCharts:', error);\n",
              "      }\n",
              "      quickchartButtonEl.classList.remove('colab-df-spinner');\n",
              "      quickchartButtonEl.classList.add('colab-df-quickchart-complete');\n",
              "    }\n",
              "    (() => {\n",
              "      let quickchartButtonEl =\n",
              "        document.querySelector('#df-698b45e7-a541-4979-adca-fc1bc39050c6 button');\n",
              "      quickchartButtonEl.style.display =\n",
              "        google.colab.kernel.accessAllowed ? 'block' : 'none';\n",
              "    })();\n",
              "  </script>\n",
              "</div>\n",
              "\n",
              "    </div>\n",
              "  </div>\n"
            ],
            "application/vnd.google.colaboratory.intrinsic+json": {
              "type": "dataframe",
              "summary": "{\n  \"name\": \"pd\",\n  \"rows\": 2,\n  \"fields\": [\n    {\n      \"column\": \"Actual\",\n      \"properties\": {\n        \"dtype\": \"number\",\n        \"std\": 0,\n        \"min\": 0,\n        \"max\": 1,\n        \"num_unique_values\": 2,\n        \"samples\": [\n          1,\n          0\n        ],\n        \"semantic_type\": \"\",\n        \"description\": \"\"\n      }\n    },\n    {\n      \"column\": 0,\n      \"properties\": {\n        \"dtype\": \"number\",\n        \"std\": 862,\n        \"min\": 0,\n        \"max\": 1220,\n        \"num_unique_values\": 2,\n        \"samples\": [\n          0,\n          1220\n        ],\n        \"semantic_type\": \"\",\n        \"description\": \"\"\n      }\n    },\n    {\n      \"column\": 1,\n      \"properties\": {\n        \"dtype\": \"number\",\n        \"std\": 909,\n        \"min\": 0,\n        \"max\": 1286,\n        \"num_unique_values\": 2,\n        \"samples\": [\n          1286,\n          0\n        ],\n        \"semantic_type\": \"\",\n        \"description\": \"\"\n      }\n    }\n  ]\n}"
            }
          },
          "metadata": {},
          "execution_count": 61
        }
      ]
    },
    {
      "cell_type": "code",
      "source": [
        "# prompt: quiero e accuracy\n",
        "\n",
        "from sklearn import metrics\n",
        "print(\"Accuracy:\", metrics.accuracy_score(y_test, y_pred))\n"
      ],
      "metadata": {
        "colab": {
          "base_uri": "https://localhost:8080/"
        },
        "id": "R0nU7J4-_fvP",
        "outputId": "2ef710e6-d69a-434a-96da-f8aeac5b75cc"
      },
      "execution_count": 62,
      "outputs": [
        {
          "output_type": "stream",
          "name": "stdout",
          "text": [
            "Accuracy: 1.0\n"
          ]
        }
      ]
    },
    {
      "cell_type": "code",
      "source": [
        "# prompt: quiero la precision\n",
        "\n",
        "print(\"Precision:\", metrics.precision_score(y_test, y_pred))\n"
      ],
      "metadata": {
        "colab": {
          "base_uri": "https://localhost:8080/"
        },
        "id": "3MK0LeO__mou",
        "outputId": "108245bb-28ac-489b-efdd-c869ec25d5ec"
      },
      "execution_count": 63,
      "outputs": [
        {
          "output_type": "stream",
          "name": "stdout",
          "text": [
            "Precision: 1.0\n"
          ]
        }
      ]
    },
    {
      "cell_type": "code",
      "source": [
        "# prompt: quiero la metrica de recall\n",
        "\n",
        "print(\"Recall:\", metrics.recall_score(y_test, y_pred))\n"
      ],
      "metadata": {
        "colab": {
          "base_uri": "https://localhost:8080/"
        },
        "id": "51ZBhaLR_ysn",
        "outputId": "5875eeb5-636b-4370-cc6b-057ff39ded46"
      },
      "execution_count": 64,
      "outputs": [
        {
          "output_type": "stream",
          "name": "stdout",
          "text": [
            "Recall: 1.0\n"
          ]
        }
      ]
    },
    {
      "cell_type": "code",
      "source": [
        "# prompt: generar graficalos X_predichos en funcion de las etiquetas\n",
        "\n",
        "import matplotlib.pyplot as plt\n",
        "# Create a list of predicted labels\n",
        "predicted_labels = ['Positive' if pred == 1 else 'Negative' for pred in y_pred]\n",
        "\n",
        "# Contamos la cantidad de veces que ocurren las etiquetas\n",
        "count_1 = np.count_nonzero(y_pred == 1)\n",
        "count_0 = np.count_nonzero(y_pred == 0)\n",
        "\n",
        "# Creamos un gráfico de barras\n",
        "plt.bar([1, 0], [count_1, count_0], tick_label=['Positive', 'Negative'])\n",
        "\n",
        "# Add labels and title\n",
        "plt.xlabel('Predicted Label')\n",
        "plt.ylabel('Count')\n",
        "plt.title('Predicted Labels Distribution')\n",
        "\n",
        "# Show the plot\n",
        "plt.show()\n"
      ],
      "metadata": {
        "colab": {
          "base_uri": "https://localhost:8080/",
          "height": 472
        },
        "id": "ZvFCUIaWAHaB",
        "outputId": "38bbbcac-d180-401d-9bbd-57fe5fd00e73"
      },
      "execution_count": 65,
      "outputs": [
        {
          "output_type": "display_data",
          "data": {
            "text/plain": [
              "<Figure size 640x480 with 1 Axes>"
            ],
            "image/png": "[encoded data removed]"
          },
          "metadata": {}
        }
      ]
    },
    {
      "cell_type": "markdown",
      "source": [
        "## Entrenamiento con Naive bayes"
      ],
      "metadata": {
        "id": "oFEzaU5L5VSt"
      }
    },
    {
      "cell_type": "code",
      "source": [
        "# prompt: clasificador de naive bayes\n",
        "\n",
        "import pandas as pd\n",
        "import matplotlib.pyplot as plt\n",
        "import numpy as np\n",
        "from sklearn.naive_bayes import GaussianNB\n",
        "modelo_naive = GaussianNB()\n",
        "modelo_naive.fit(X_train, y_train)\n",
        "\n",
        "y_pred_naive = modelo_naive.predict(X_test)\n",
        "\n",
        "cm = confusion_matrix(y_test, y_pred_naive)\n",
        "\n",
        "pd.crosstab(y_test, y_pred_naive, rownames=['Actual'], colnames=['Predicted'])\n",
        "\n",
        "\n",
        "print(\"Accuracy:\", metrics.accuracy_score(y_test, y_pred_naive))\n",
        "\n",
        "\n",
        "print(\"Precision:\", metrics.precision_score(y_test, y_pred_naive))\n",
        "\n",
        "\n",
        "print(\"Recall:\", metrics.recall_score(y_test, y_pred_naive))\n",
        "\n",
        "\n",
        "# Create a list of predicted labels\n",
        "predicted_labels_naive = ['Positive' if pred == 1 else 'Negative' for pred in y_pred_naive]\n",
        "\n",
        "# Contamos la cantidad de veces que ocurren las etiquetas\n",
        "count_1_naive = np.count_nonzero(y_pred_naive == 1)\n",
        "count_0_naive = np.count_nonzero(y_pred_naive == 0)\n",
        "\n",
        "# Creamos un gráfico de barras\n",
        "plt.bar([1, 0], [count_1_naive, count_0_naive], tick_label=['Positive', 'Negative'])\n",
        "\n",
        "# Add labels and title\n",
        "plt.xlabel('Predicted Label')\n",
        "plt.ylabel('Count')\n",
        "plt.title('Predicted Labels Distribution')\n",
        "\n",
        "# Show the plot\n",
        "plt.show()\n"
      ],
      "metadata": {
        "colab": {
          "base_uri": "https://localhost:8080/",
          "height": 524
        },
        "id": "JTtIUpYB6dyW",
        "outputId": "bae83f0b-e66b-4cbd-fa8f-5f5a81842105"
      },
      "execution_count": 66,
      "outputs": [
        {
          "output_type": "stream",
          "name": "stdout",
          "text": [
            "Accuracy: 0.9996009577015164\n",
            "Precision: 0.9992229992229992\n",
            "Recall: 1.0\n"
          ]
        },
        {
          "output_type": "display_data",
          "data": {
            "text/plain": [
              "<Figure size 640x480 with 1 Axes>"
            ],
            "image/png": "[encoded data removed]"
          },
          "metadata": {}
        }
      ]
    },
    {
      "cell_type": "markdown",
      "source": [
        "## Clasificador con maquinas de soporte vectorial"
      ],
      "metadata": {
        "id": "BLu95cxf6pj9"
      }
    },
    {
      "cell_type": "code",
      "source": [
        "import pandas as pd\n",
        "import matplotlib.pyplot as plt\n",
        "import numpy as np\n",
        "from sklearn.svm import SVC\n",
        "\n",
        "modelo_SVM = SVC(kernel='linear')\n",
        "modelo_SVM.fit(X_train, y_train)\n",
        "\n",
        "y_pred_SVM = modelo_SVM.predict(X_test)\n",
        "\n",
        "cm = confusion_matrix(y_test, y_pred_SVM)\n",
        "\n",
        "pd.crosstab(y_test, y_pred_SVM, rownames=['Actual'], colnames=['Predicted'])\n",
        "\n",
        "\n",
        "print(\"Accuracy:\", metrics.accuracy_score(y_test, y_pred_SVM))\n",
        "\n",
        "\n",
        "print(\"Precision:\", metrics.precision_score(y_test, y_pred_SVM))\n",
        "\n",
        "\n",
        "print(\"Recall:\", metrics.recall_score(y_test, y_pred_SVM))\n",
        "\n",
        "\n",
        "# Create a list of predicted labels\n",
        "predicted_labels_SVM = ['Positive' if pred == 1 else 'Negative' for pred in y_pred_SVM]\n",
        "\n",
        "# Contamos la cantidad de veces que ocurren las etiquetas\n",
        "count_1_SVM = np.count_nonzero(y_pred_SVM == 1)\n",
        "count_0_SVM = np.count_nonzero(y_pred_SVM == 0)\n",
        "\n",
        "# Creamos un gráfico de barras\n",
        "plt.bar([1, 0], [count_1_SVM, count_0_SVM], tick_label=['Positive', 'Negative'])\n",
        "\n",
        "# Add labels and title\n",
        "plt.xlabel('Predicted Label')\n",
        "plt.ylabel('Count')\n",
        "plt.title('Predicted Labels Distribution')\n",
        "\n",
        "# Show the plot\n",
        "plt.show()\n"
      ],
      "metadata": {
        "colab": {
          "base_uri": "https://localhost:8080/",
          "height": 524
        },
        "id": "oQl8qFXx_q9u",
        "outputId": "eef3b93b-d637-4fd2-f615-74322ebf259c"
      },
      "execution_count": 79,
      "outputs": [
        {
          "output_type": "stream",
          "name": "stdout",
          "text": [
            "Accuracy: 1.0\n",
            "Precision: 1.0\n",
            "Recall: 1.0\n"
          ]
        },
        {
          "output_type": "display_data",
          "data": {
            "text/plain": [
              "<Figure size 640x480 with 1 Axes>"
            ],
            "image/png": "[encoded data removed]"
          },
          "metadata": {}
        }
      ]
    },
    {
      "cell_type": "markdown",
      "source": [
        "# Clasificar con datos de los otros review como DVD o electronics para ver el comportamiento utilizando la lista de palabras del `review de book`"
      ],
      "metadata": {
        "id": "ohYE6wd362Bs"
      }
    },
    {
      "cell_type": "code",
      "source": [
        "negative_words_set_DVD, Set_words_negative_DVD = preprocess('/content/processed_acl/dvd/negative.review') # datos negtivos\n",
        "positive_words_set_DVD, Set_words_positive_DVD = preprocess('/content/processed_acl/dvd/positive.review') # datos positivos\n"
      ],
      "metadata": {
        "id": "9wmhIMRj7Jil"
      },
      "execution_count": 68,
      "outputs": []
    },
    {
      "cell_type": "code",
      "source": [
        "negative_top_DVD = procesar_ngramas(negative_words_set_DVD, top_Words_neg) # obtenemos una lista con palabras importantes y sus etiquetas\n",
        "positive_top_DVD = procesar_ngramas(positive_words_set_DVD, top_Words_pos)\n"
      ],
      "metadata": {
        "id": "gEAy_VDo8Xaf"
      },
      "execution_count": 69,
      "outputs": []
    },
    {
      "cell_type": "code",
      "source": [
        "# Procesar los n-gramas de las palabras positivas\n",
        "negative_trigrams_DVD = crear_trigramas(negative_top_DVD)\n",
        "positive_trigrams_DVD = crear_trigramas(positive_top_DVD) # obtenemos casi 6000 trigrams"
      ],
      "metadata": {
        "id": "PsSozoTE85Bm"
      },
      "execution_count": 70,
      "outputs": []
    },
    {
      "cell_type": "code",
      "source": [
        "Datos_DVD = negative_trigrams_DVD + positive_trigrams_DVD\n",
        "random.shuffle(Datos_DVD) # con la funcion random creamos aletoriedad."
      ],
      "metadata": {
        "id": "zpqgnOP39Fuu"
      },
      "execution_count": 71,
      "outputs": []
    },
    {
      "cell_type": "code",
      "source": [
        "Encoded_DVD = []\n",
        "Label_DVD = []\n",
        "\n",
        "for word, label in Datos_DVD: # cargamos nuestros datos\n",
        "\n",
        "    if word: # verificamos si no esta vacio\n",
        "        WordCode = encoded(word) # pasamos cada trigrama para codificar\n",
        "        if len(WordCode) == 3 and WordCode != None: # verififcamos que tenga lungitud de 3 y no este vacio\n",
        "            Code = []\n",
        "            for palabra in WordCode: #obtenemos cada palabra para crear una lista\n",
        "                Code.extend(palabra) # pasamos toda la lista con formato [1,2,3]\n",
        "            Encoded_DVD.append(Code) #pasamos la lista para crear una lista de listas\n",
        "            Label_DVD.append(label) # agregamos su etiqueta\n",
        "\n",
        "#Obtener las longitudes de todas las secuencias en todas las sublistas\n",
        "sequence_lengths = max([len(sublist) for sublist in Encoded_DVD]) # max es 3"
      ],
      "metadata": {
        "id": "5jjHuzXG9n8v"
      },
      "execution_count": 72,
      "outputs": []
    },
    {
      "cell_type": "code",
      "source": [
        "padded_DVD = []\n",
        "for item in Encoded_DVD: # Para cada lista\n",
        "    while len(item) < sequence_lengths+1: # mientras sea menor que la lungitud maxima\n",
        "        item.append(0) # agregamos ceros para normaizar\n",
        "    padded_DVD.append(item)  # agregamos la lista\n"
      ],
      "metadata": {
        "id": "a0AaGqVp9vvu"
      },
      "execution_count": 76,
      "outputs": []
    },
    {
      "cell_type": "code",
      "source": [
        "X_DVD = np.array(padded_DVD) # creamos una matriz de datos\n",
        "y_DVD = Label_DVD # y sus etiquetas"
      ],
      "metadata": {
        "id": "qJLgFNze933O"
      },
      "execution_count": 77,
      "outputs": []
    },
    {
      "cell_type": "code",
      "source": [
        "y_pred_DVD = arbol.predict(X_DVD)\n",
        "\n",
        "cm = confusion_matrix(y_DVD, y_pred_DVD)\n",
        "\n",
        "pd.crosstab(y_DVD, y_pred_DVD, rownames=['Actual'], colnames=['Predicted'])"
      ],
      "metadata": {
        "colab": {
          "base_uri": "https://localhost:8080/",
          "height": 143
        },
        "id": "jg1Soasq-tVG",
        "outputId": "9810e854-06de-4fb7-a6c2-816c144c0e2b"
      },
      "execution_count": 78,
      "outputs": [
        {
          "output_type": "execute_result",
          "data": {
            "text/plain": [
              "Predicted     0     1\n",
              "Actual               \n",
              "0          1553     0\n",
              "1             0  1830"
            ],
            "text/html": [
              "\n",
              "  <div id=\"df-e5b71fa6-c3db-4a7f-b258-fbb5f9a57636\" class=\"colab-df-container\">\n",
              "    <div>\n",
              "<style scoped>\n",
              "    .dataframe tbody tr th:only-of-type {\n",
              "        vertical-align: middle;\n",
              "    }\n",
              "\n",
              "    .dataframe tbody tr th {\n",
              "        vertical-align: top;\n",
              "    }\n",
              "\n",
              "    .dataframe thead th {\n",
              "        text-align: right;\n",
              "    }\n",
              "</style>\n",
              "<table border=\"1\" class=\"dataframe\">\n",
              "  <thead>\n",
              "    <tr style=\"text-align: right;\">\n",
              "      <th>Predicted</th>\n",
              "      <th>0</th>\n",
              "      <th>1</th>\n",
              "    </tr>\n",
              "    <tr>\n",
              "      <th>Actual</th>\n",
              "      <th></th>\n",
              "      <th></th>\n",
              "    </tr>\n",
              "  </thead>\n",
              "  <tbody>\n",
              "    <tr>\n",
              "      <th>0</th>\n",
              "      <td>1553</td>\n",
              "      <td>0</td>\n",
              "    </tr>\n",
              "    <tr>\n",
              "      <th>1</th>\n",
              "      <td>0</td>\n",
              "      <td>1830</td>\n",
              "    </tr>\n",
              "  </tbody>\n",
              "</table>\n",
              "</div>\n",
              "    <div class=\"colab-df-buttons\">\n",
              "\n",
              "  <div class=\"colab-df-container\">\n",
              "    <button class=\"colab-df-convert\" onclick=\"convertToInteractive('df-e5b71fa6-c3db-4a7f-b258-fbb5f9a57636')\"\n",
              "            title=\"Convert this dataframe to an interactive table.\"\n",
              "            style=\"display:none;\">\n",
              "\n",
              "  <svg xmlns=\"http://www.w3.org/2000/svg\" height=\"24px\" viewBox=\"0 -960 960 960\">\n",
              "    <path d=\"M120-120v-720h720v720H120Zm60-500h600v-160H180v160Zm220 220h160v-160H400v160Zm0 220h160v-160H400v160ZM180-400h160v-160H180v160Zm440 0h160v-160H620v160ZM180-180h160v-160H180v160Zm440 0h160v-160H620v160Z\"/>\n",
              "  </svg>\n",
              "    </button>\n",
              "\n",
              "  <style>\n",
              "    .colab-df-container {\n",
              "      display:flex;\n",
              "      gap: 12px;\n",
              "    }\n",
              "\n",
              "    .colab-df-convert {\n",
              "      background-color: #E8F0FE;\n",
              "      border: none;\n",
              "      border-radius: 50%;\n",
              "      cursor: pointer;\n",
              "      display: none;\n",
              "      fill: #1967D2;\n",
              "      height: 32px;\n",
              "      padding: 0 0 0 0;\n",
              "      width: 32px;\n",
              "    }\n",
              "\n",
              "    .colab-df-convert:hover {\n",
              "      background-color: #E2EBFA;\n",
              "      box-shadow: 0px 1px 2px rgba(60, 64, 67, 0.3), 0px 1px 3px 1px rgba(60, 64, 67, 0.15);\n",
              "      fill: #174EA6;\n",
              "    }\n",
              "\n",
              "    .colab-df-buttons div {\n",
              "      margin-bottom: 4px;\n",
              "    }\n",
              "\n",
              "    [theme=dark] .colab-df-convert {\n",
              "      background-color: #3B4455;\n",
              "      fill: #D2E3FC;\n",
              "    }\n",
              "\n",
              "    [theme=dark] .colab-df-convert:hover {\n",
              "      background-color: #434B5C;\n",
              "      box-shadow: 0px 1px 3px 1px rgba(0, 0, 0, 0.15);\n",
              "      filter: drop-shadow(0px 1px 2px rgba(0, 0, 0, 0.3));\n",
              "      fill: #FFFFFF;\n",
              "    }\n",
              "  </style>\n",
              "\n",
              "    <script>\n",
              "      const buttonEl =\n",
              "        document.querySelector('#df-e5b71fa6-c3db-4a7f-b258-fbb5f9a57636 button.colab-df-convert');\n",
              "      buttonEl.style.display =\n",
              "        google.colab.kernel.accessAllowed ? 'block' : 'none';\n",
              "\n",
              "      async function convertToInteractive(key) {\n",
              "        const element = document.querySelector('#df-e5b71fa6-c3db-4a7f-b258-fbb5f9a57636');\n",
              "        const dataTable =\n",
              "          await google.colab.kernel.invokeFunction('convertToInteractive',\n",
              "                                                    [key], {});\n",
              "        if (!dataTable) return;\n",
              "\n",
              "        const docLinkHtml = 'Like what you see? Visit the ' +\n",
              "          '<a target=\"_blank\" href=https://colab.research.google.com/notebooks/data_table.ipynb>data table notebook</a>'\n",
              "          + ' to learn more about interactive tables.';\n",
              "        element.innerHTML = '';\n",
              "        dataTable['output_type'] = 'display_data';\n",
              "        await google.colab.output.renderOutput(dataTable, element);\n",
              "        const docLink = document.createElement('div');\n",
              "        docLink.innerHTML = docLinkHtml;\n",
              "        element.appendChild(docLink);\n",
              "      }\n",
              "    </script>\n",
              "  </div>\n",
              "\n",
              "\n",
              "<div id=\"df-31a8bb9d-1b81-40af-8d57-0b64832e1dbf\">\n",
              "  <button class=\"colab-df-quickchart\" onclick=\"quickchart('df-31a8bb9d-1b81-40af-8d57-0b64832e1dbf')\"\n",
              "            title=\"Suggest charts\"\n",
              "            style=\"display:none;\">\n",
              "\n",
              "<svg xmlns=\"http://www.w3.org/2000/svg\" height=\"24px\"viewBox=\"0 0 24 24\"\n",
              "     width=\"24px\">\n",
              "    <g>\n",
              "        <path d=\"M19 3H5c-1.1 0-2 .9-2 2v14c0 1.1.9 2 2 2h14c1.1 0 2-.9 2-2V5c0-1.1-.9-2-2-2zM9 17H7v-7h2v7zm4 0h-2V7h2v10zm4 0h-2v-4h2v4z\"/>\n",
              "    </g>\n",
              "</svg>\n",
              "  </button>\n",
              "\n",
              "<style>\n",
              "  .colab-df-quickchart {\n",
              "      --bg-color: #E8F0FE;\n",
              "      --fill-color: #1967D2;\n",
              "      --hover-bg-color: #E2EBFA;\n",
              "      --hover-fill-color: #174EA6;\n",
              "      --disabled-fill-color: #AAA;\n",
              "      --disabled-bg-color: #DDD;\n",
              "  }\n",
              "\n",
              "  [theme=dark] .colab-df-quickchart {\n",
              "      --bg-color: #3B4455;\n",
              "      --fill-color: #D2E3FC;\n",
              "      --hover-bg-color: #434B5C;\n",
              "      --hover-fill-color: #FFFFFF;\n",
              "      --disabled-bg-color: #3B4455;\n",
              "      --disabled-fill-color: #666;\n",
              "  }\n",
              "\n",
              "  .colab-df-quickchart {\n",
              "    background-color: var(--bg-color);\n",
              "    border: none;\n",
              "    border-radius: 50%;\n",
              "    cursor: pointer;\n",
              "    display: none;\n",
              "    fill: var(--fill-color);\n",
              "    height: 32px;\n",
              "    padding: 0;\n",
              "    width: 32px;\n",
              "  }\n",
              "\n",
              "  .colab-df-quickchart:hover {\n",
              "    background-color: var(--hover-bg-color);\n",
              "    box-shadow: 0 1px 2px rgba(60, 64, 67, 0.3), 0 1px 3px 1px rgba(60, 64, 67, 0.15);\n",
              "    fill: var(--button-hover-fill-color);\n",
              "  }\n",
              "\n",
              "  .colab-df-quickchart-complete:disabled,\n",
              "  .colab-df-quickchart-complete:disabled:hover {\n",
              "    background-color: var(--disabled-bg-color);\n",
              "    fill: var(--disabled-fill-color);\n",
              "    box-shadow: none;\n",
              "  }\n",
              "\n",
              "  .colab-df-spinner {\n",
              "    border: 2px solid var(--fill-color);\n",
              "    border-color: transparent;\n",
              "    border-bottom-color: var(--fill-color);\n",
              "    animation:\n",
              "      spin 1s steps(1) infinite;\n",
              "  }\n",
              "\n",
              "  @keyframes spin {\n",
              "    0% {\n",
              "      border-color: transparent;\n",
              "      border-bottom-color: var(--fill-color);\n",
              "      border-left-color: var(--fill-color);\n",
              "    }\n",
              "    20% {\n",
              "      border-color: transparent;\n",
              "      border-left-color: var(--fill-color);\n",
              "      border-top-color: var(--fill-color);\n",
              "    }\n",
              "    30% {\n",
              "      border-color: transparent;\n",
              "      border-left-color: var(--fill-color);\n",
              "      border-top-color: var(--fill-color);\n",
              "      border-right-color: var(--fill-color);\n",
              "    }\n",
              "    40% {\n",
              "      border-color: transparent;\n",
              "      border-right-color: var(--fill-color);\n",
              "      border-top-color: var(--fill-color);\n",
              "    }\n",
              "    60% {\n",
              "      border-color: transparent;\n",
              "      border-right-color: var(--fill-color);\n",
              "    }\n",
              "    80% {\n",
              "      border-color: transparent;\n",
              "      border-right-color: var(--fill-color);\n",
              "      border-bottom-color: var(--fill-color);\n",
              "    }\n",
              "    90% {\n",
              "      border-color: transparent;\n",
              "      border-bottom-color: var(--fill-color);\n",
              "    }\n",
              "  }\n",
              "</style>\n",
              "\n",
              "  <script>\n",
              "    async function quickchart(key) {\n",
              "      const quickchartButtonEl =\n",
              "        document.querySelector('#' + key + ' button');\n",
              "      quickchartButtonEl.disabled = true;  // To prevent multiple clicks.\n",
              "      quickchartButtonEl.classList.add('colab-df-spinner');\n",
              "      try {\n",
              "        const charts = await google.colab.kernel.invokeFunction(\n",
              "            'suggestCharts', [key], {});\n",
              "      } catch (error) {\n",
              "        console.error('Error during call to suggestCharts:', error);\n",
              "      }\n",
              "      quickchartButtonEl.classList.remove('colab-df-spinner');\n",
              "      quickchartButtonEl.classList.add('colab-df-quickchart-complete');\n",
              "    }\n",
              "    (() => {\n",
              "      let quickchartButtonEl =\n",
              "        document.querySelector('#df-31a8bb9d-1b81-40af-8d57-0b64832e1dbf button');\n",
              "      quickchartButtonEl.style.display =\n",
              "        google.colab.kernel.accessAllowed ? 'block' : 'none';\n",
              "    })();\n",
              "  </script>\n",
              "</div>\n",
              "\n",
              "    </div>\n",
              "  </div>\n"
            ],
            "application/vnd.google.colaboratory.intrinsic+json": {
              "type": "dataframe",
              "summary": "{\n  \"name\": \"pd\",\n  \"rows\": 2,\n  \"fields\": [\n    {\n      \"column\": \"Actual\",\n      \"properties\": {\n        \"dtype\": \"number\",\n        \"std\": 0,\n        \"min\": 0,\n        \"max\": 1,\n        \"num_unique_values\": 2,\n        \"samples\": [\n          1,\n          0\n        ],\n        \"semantic_type\": \"\",\n        \"description\": \"\"\n      }\n    },\n    {\n      \"column\": 0,\n      \"properties\": {\n        \"dtype\": \"number\",\n        \"std\": 1098,\n        \"min\": 0,\n        \"max\": 1553,\n        \"num_unique_values\": 2,\n        \"samples\": [\n          0,\n          1553\n        ],\n        \"semantic_type\": \"\",\n        \"description\": \"\"\n      }\n    },\n    {\n      \"column\": 1,\n      \"properties\": {\n        \"dtype\": \"number\",\n        \"std\": 1294,\n        \"min\": 0,\n        \"max\": 1830,\n        \"num_unique_values\": 2,\n        \"samples\": [\n          1830,\n          0\n        ],\n        \"semantic_type\": \"\",\n        \"description\": \"\"\n      }\n    }\n  ]\n}"
            }
          },
          "metadata": {},
          "execution_count": 78
        }
      ]
    },
    {
      "cell_type": "markdown",
      "source": [
        "**Podemos observar que con el dataset de DVD los `datos disminuyen `a 3000 de 10000 pero aun asi alcanzan a distinguir de negativos y positivos**"
      ],
      "metadata": {
        "id": "0qxKR8aX_MLl"
      }
    }
  ],
  "metadata": {
    "colab": {
      "provenance": [],
      "collapsed_sections": [
        "qQLF6Dsz32y3",
        "nBFizIdfDfFv",
        "TfD6SQW_luUw",
        "_aXTdhLH5EmF",
        "oFEzaU5L5VSt",
        "BLu95cxf6pj9",
        "ohYE6wd362Bs"
      ],
      "mount_file_id": "1AumqjM1z1GbIkNf0HKn8PXRm2kZJnDZG",
      "authorship_tag": "ABX9TyMqhnvS6SiOY+Ep0k/HIbpK",
      "include_colab_link": true
    },
    "kernelspec": {
      "display_name": "Python 3",
      "name": "python3"
    },
    "language_info": {
      "name": "python"
    }
  },
  "nbformat": 4,
  "nbformat_minor": 0
}