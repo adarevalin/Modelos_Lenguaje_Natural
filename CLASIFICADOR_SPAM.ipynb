{
  "nbformat": 4,
  "nbformat_minor": 0,
  "metadata": {
    "colab": {
      "provenance": [],
      "authorship_tag": "ABX9TyMe5S4pcZMRJfelgunEFOK2",
      "include_colab_link": true
    },
    "kernelspec": {
      "name": "python3",
      "display_name": "Python 3"
    },
    "language_info": {
      "name": "python"
    }
  },
  "cells": [
    {
      "cell_type": "markdown",
      "metadata": {
        "id": "view-in-github",
        "colab_type": "text"
      },
      "source": [
        "<a href=\"https://colab.research.google.com/github/adarevalin/Modelos_Lenguaje_Natural/blob/main/CLASIFICADOR_SPAM.ipynb\" target=\"_parent\"><img src=\"https://colab.research.google.com/assets/colab-badge.svg\" alt=\"Open In Colab\"/></a>"
      ]
    },
    {
      "cell_type": "markdown",
      "source": [
        "## CLASIFICADOR DE SPAM"
      ],
      "metadata": {
        "id": "KWve7qGpmRp_"
      }
    },
    {
      "cell_type": "markdown",
      "source": [
        "Estas son las librerias para importar y realizar todo los procesamientos necesarios."
      ],
      "metadata": {
        "id": "owVEymQR2j6x"
      }
    },
    {
      "cell_type": "code",
      "execution_count": 72,
      "metadata": {
        "colab": {
          "base_uri": "https://localhost:8080/"
        },
        "id": "dcNewC7hmP8o",
        "outputId": "2e75ab3b-d54f-44ff-c327-509f7d0a8e2b"
      },
      "outputs": [
        {
          "output_type": "stream",
          "name": "stderr",
          "text": [
            "[nltk_data] Downloading package punkt to /root/nltk_data...\n",
            "[nltk_data]   Package punkt is already up-to-date!\n",
            "[nltk_data] Downloading package stopwords to /root/nltk_data...\n",
            "[nltk_data]   Package stopwords is already up-to-date!\n"
          ]
        }
      ],
      "source": [
        "import nltk, random # necesaria para tokenizar y random nos permite generar aletoriedad en los datos.\n",
        "nltk.download('punkt')  # Descarga de recursos para tokenización, ejecutar solo una vez\n",
        "\n",
        "from nltk import word_tokenize  # Tokenización de palabras\n",
        "\n",
        "from nltk.corpus import stopwords\n",
        "nltk.download('stopwords')  # Descarga de recursos para palabras vacías, ejecutar solo una vez\n",
        "stop_words = set(stopwords.words('english'))\n",
        "\n",
        "import pandas as pd  # Para manipulación de datos\n",
        "import numpy as np  # Para operaciones numéricas\n",
        "import zipfile  # Para trabajar con archivos zip\n",
        "\n",
        "#from google.colab import drive  # Para montar Google Drive\n",
        "#drive.mount('/content/drive')  # Montar Google Drive para acceder a los archivos\n"
      ]
    },
    {
      "cell_type": "markdown",
      "source": [
        "#1. Cargamos el dataset"
      ],
      "metadata": {
        "id": "o3fA79QHn_r8"
      }
    },
    {
      "cell_type": "markdown",
      "source": [
        "Pre - procesamiento de los datos para obtener los atributos necesarios.\n",
        "\n",
        "* En este caso vamos a sacar 5 bigramas con la mayor distribución de frecuencia que se encuentran en los correos tanto de spam y ham."
      ],
      "metadata": {
        "id": "RPkuGGUf2vvS"
      }
    },
    {
      "cell_type": "markdown",
      "source": [
        "1. Cargamos los corpus que vamos a utilizar, en este caso tenemos un dataset que contiene correos en ingles de ham y spam, son de uso libre."
      ],
      "metadata": {
        "id": "YFKbGtm78aLc"
      }
    },
    {
      "cell_type": "code",
      "source": [
        "# Carga de los corpus\n",
        "!git clone https://github.com/pachocamacho1990/datasets"
      ],
      "metadata": {
        "colab": {
          "base_uri": "https://localhost:8080/"
        },
        "id": "_8rl2lQEoIML",
        "outputId": "a279b2e6-59a8-424e-f94d-5dd5ef00d5b1"
      },
      "execution_count": 73,
      "outputs": [
        {
          "output_type": "stream",
          "name": "stdout",
          "text": [
            "fatal: destination path 'datasets' already exists and is not an empty directory.\n"
          ]
        }
      ]
    },
    {
      "cell_type": "markdown",
      "source": [
        "2. Procesamos los datos y cargarlos, vamos a utilizar el corpus 1,2 y 3"
      ],
      "metadata": {
        "id": "evhjas5ioN-g"
      }
    },
    {
      "cell_type": "code",
      "source": [
        "# Estas expresiones regulares me ayudan hacer busquedas y filtrar las palabras importantes.\n",
        "\n",
        "pattern = r'''(?x)                 # establecer bandera para permitir expresiones regulares detalladas\n",
        "              (?:[A-Z]\\.)+         # abreviaturas, ejemplo (U.S.A.)\n",
        "              | \\w+(?:-\\w+)*       # palabras con guiones internos opcionales\n",
        "              | \\$?\\d+(?:\\.\\d+)?%? # moneda y porcentajes, ejemplo ($12.40, 82%)\n",
        "              | \\.\\.\\.             # elipsis\n",
        "              | [][.,;\"'?():-_`]   # éstas son fichas separadas; incluye ], [\n",
        "'''"
      ],
      "metadata": {
        "id": "Xt6y_aIduItY"
      },
      "execution_count": 74,
      "outputs": []
    },
    {
      "cell_type": "code",
      "source": [
        "from nltk.util import bigrams # importar de nltk los bigrams\n",
        "\n",
        "ruta = \"/content/datasets/email/plaintext/corpus2.zip\" # este es el corpus 1 de correos en inglish\n",
        "\n",
        "data = [] # donde vamos a guardar los bigrams\n",
        "\n",
        "with zipfile.ZipFile(ruta, mode=\"r\") as corpus: # el with es necesario para cerrar todos los ficheros luego de terminar el proceso\n",
        "    for file in corpus.namelist():\n",
        "        with corpus.open(file) as f:\n",
        "            text = f.read().decode('ISO-8859-1')  # Decodificar el texto\n",
        "            if text.strip():  # Verificar si el texto no está vacío\n",
        "\n",
        "                tokens = nltk.regexp_tokenize(text,pattern) # tokenizar y realizar filtro con expresión regulares\n",
        "\n",
        "                long_words = [palabra for palabra in tokens if palabra.lower() not in stop_words and len(palabra) > 2] # aqui estamos sacando las palabras que no estan en stopwords y ademas con longitud mayor a dos\n",
        "\n",
        "                bigramas = list(bigrams(long_words)) # usando la clase bigrams obtenemos las posibles combinaciones\n",
        "\n",
        "                bandera = 3\n",
        "                fil_bigramas = [bigrams for bigrams in bigramas if len(bigrams[0]) > bandera and len(bigrams[1]) > bandera] # realizamos un flitro para las palabras de los bigramas\n",
        "                fdistBigrams = nltk.FreqDist(fil_bigramas) # obtenemos la distribucion de frecuencia\n",
        "                top_bigrams = fdistBigrams.most_common(5) # guardamos los 5 mayores bigramas, que serian nuestras colocaciones.\n",
        "\n",
        "                # Etiquetar el archivo según su clase (ham o spam)\n",
        "                label = 'True' if 'ham' in file else 'False' # si ham esta en los archivos es true sino es false\n",
        "\n",
        "                data.append((top_bigrams,label)) # agregamos los datos y sus etiquetas a la lista de data.\n",
        "                random.shuffle(data) # con la funcion random creamos aletoriedad.\n"
      ],
      "metadata": {
        "id": "9li_HtKYoohi"
      },
      "execution_count": 75,
      "outputs": []
    },
    {
      "cell_type": "markdown",
      "source": [
        "En df obtenemos las colocaciones y su frecuencia en el texto, tener presente que el analisis se hizo para cada correo, por lo cual estas colocaciones y frecuencias son propias de cada uno."
      ],
      "metadata": {
        "id": "55iL9wJJAd7U"
      }
    },
    {
      "cell_type": "code",
      "source": [
        "df = pd.DataFrame(data, columns=['top_bigrams','Clase']) # convertimos con pandas un dataframe\n",
        "df.head(10) # graficamos los primeros 10 valores."
      ],
      "metadata": {
        "colab": {
          "base_uri": "https://localhost:8080/",
          "height": 363
        },
        "id": "sSVxQIco17qa",
        "outputId": "256d55c4-402b-488e-d1ac-41e9a496d36a"
      },
      "execution_count": 76,
      "outputs": [
        {
          "output_type": "execute_result",
          "data": {
            "text/plain": [
              "                                         top_bigrams  Clase\n",
              "0  [((merchant, asset), 4), ((asset, group), 4), ...   True\n",
              "1  [((Subject, mail), 1), ((mail, delivery), 1), ...  False\n",
              "2  [((sept, confirmation), 2), ((Subject, wellesl...   True\n",
              "3  [((Subject, entrust), 1), ((entrust, visual), ...  False\n",
              "4  [((issue, issue), 27), ((2005, issue), 8), ((a...  False\n",
              "5  [((floor, meetings), 4), ((floor, trading), 4)...   True\n",
              "6  [((Subject, hassle), 1), ((hassle, free), 1), ...  False\n",
              "7  [((continental, power), 4), ((experience, brea...   True\n",
              "8  [((sales, marketing), 3), ((relevant, sales), ...  False\n",
              "9  [((july, 2000), 2), ((Subject, staff), 1), ((s...   True"
            ],
            "text/html": [
              "\n",
              "  <div id=\"df-004e44fa-6358-48a4-b5d8-d4077805d6af\" class=\"colab-df-container\">\n",
              "    <div>\n",
              "<style scoped>\n",
              "    .dataframe tbody tr th:only-of-type {\n",
              "        vertical-align: middle;\n",
              "    }\n",
              "\n",
              "    .dataframe tbody tr th {\n",
              "        vertical-align: top;\n",
              "    }\n",
              "\n",
              "    .dataframe thead th {\n",
              "        text-align: right;\n",
              "    }\n",
              "</style>\n",
              "<table border=\"1\" class=\"dataframe\">\n",
              "  <thead>\n",
              "    <tr style=\"text-align: right;\">\n",
              "      <th></th>\n",
              "      <th>top_bigrams</th>\n",
              "      <th>Clase</th>\n",
              "    </tr>\n",
              "  </thead>\n",
              "  <tbody>\n",
              "    <tr>\n",
              "      <th>0</th>\n",
              "      <td>[((merchant, asset), 4), ((asset, group), 4), ...</td>\n",
              "      <td>True</td>\n",
              "    </tr>\n",
              "    <tr>\n",
              "      <th>1</th>\n",
              "      <td>[((Subject, mail), 1), ((mail, delivery), 1), ...</td>\n",
              "      <td>False</td>\n",
              "    </tr>\n",
              "    <tr>\n",
              "      <th>2</th>\n",
              "      <td>[((sept, confirmation), 2), ((Subject, wellesl...</td>\n",
              "      <td>True</td>\n",
              "    </tr>\n",
              "    <tr>\n",
              "      <th>3</th>\n",
              "      <td>[((Subject, entrust), 1), ((entrust, visual), ...</td>\n",
              "      <td>False</td>\n",
              "    </tr>\n",
              "    <tr>\n",
              "      <th>4</th>\n",
              "      <td>[((issue, issue), 27), ((2005, issue), 8), ((a...</td>\n",
              "      <td>False</td>\n",
              "    </tr>\n",
              "    <tr>\n",
              "      <th>5</th>\n",
              "      <td>[((floor, meetings), 4), ((floor, trading), 4)...</td>\n",
              "      <td>True</td>\n",
              "    </tr>\n",
              "    <tr>\n",
              "      <th>6</th>\n",
              "      <td>[((Subject, hassle), 1), ((hassle, free), 1), ...</td>\n",
              "      <td>False</td>\n",
              "    </tr>\n",
              "    <tr>\n",
              "      <th>7</th>\n",
              "      <td>[((continental, power), 4), ((experience, brea...</td>\n",
              "      <td>True</td>\n",
              "    </tr>\n",
              "    <tr>\n",
              "      <th>8</th>\n",
              "      <td>[((sales, marketing), 3), ((relevant, sales), ...</td>\n",
              "      <td>False</td>\n",
              "    </tr>\n",
              "    <tr>\n",
              "      <th>9</th>\n",
              "      <td>[((july, 2000), 2), ((Subject, staff), 1), ((s...</td>\n",
              "      <td>True</td>\n",
              "    </tr>\n",
              "  </tbody>\n",
              "</table>\n",
              "</div>\n",
              "    <div class=\"colab-df-buttons\">\n",
              "\n",
              "  <div class=\"colab-df-container\">\n",
              "    <button class=\"colab-df-convert\" onclick=\"convertToInteractive('df-004e44fa-6358-48a4-b5d8-d4077805d6af')\"\n",
              "            title=\"Convert this dataframe to an interactive table.\"\n",
              "            style=\"display:none;\">\n",
              "\n",
              "  <svg xmlns=\"http://www.w3.org/2000/svg\" height=\"24px\" viewBox=\"0 -960 960 960\">\n",
              "    <path d=\"M120-120v-720h720v720H120Zm60-500h600v-160H180v160Zm220 220h160v-160H400v160Zm0 220h160v-160H400v160ZM180-400h160v-160H180v160Zm440 0h160v-160H620v160ZM180-180h160v-160H180v160Zm440 0h160v-160H620v160Z\"/>\n",
              "  </svg>\n",
              "    </button>\n",
              "\n",
              "  <style>\n",
              "    .colab-df-container {\n",
              "      display:flex;\n",
              "      gap: 12px;\n",
              "    }\n",
              "\n",
              "    .colab-df-convert {\n",
              "      background-color: #E8F0FE;\n",
              "      border: none;\n",
              "      border-radius: 50%;\n",
              "      cursor: pointer;\n",
              "      display: none;\n",
              "      fill: #1967D2;\n",
              "      height: 32px;\n",
              "      padding: 0 0 0 0;\n",
              "      width: 32px;\n",
              "    }\n",
              "\n",
              "    .colab-df-convert:hover {\n",
              "      background-color: #E2EBFA;\n",
              "      box-shadow: 0px 1px 2px rgba(60, 64, 67, 0.3), 0px 1px 3px 1px rgba(60, 64, 67, 0.15);\n",
              "      fill: #174EA6;\n",
              "    }\n",
              "\n",
              "    .colab-df-buttons div {\n",
              "      margin-bottom: 4px;\n",
              "    }\n",
              "\n",
              "    [theme=dark] .colab-df-convert {\n",
              "      background-color: #3B4455;\n",
              "      fill: #D2E3FC;\n",
              "    }\n",
              "\n",
              "    [theme=dark] .colab-df-convert:hover {\n",
              "      background-color: #434B5C;\n",
              "      box-shadow: 0px 1px 3px 1px rgba(0, 0, 0, 0.15);\n",
              "      filter: drop-shadow(0px 1px 2px rgba(0, 0, 0, 0.3));\n",
              "      fill: #FFFFFF;\n",
              "    }\n",
              "  </style>\n",
              "\n",
              "    <script>\n",
              "      const buttonEl =\n",
              "        document.querySelector('#df-004e44fa-6358-48a4-b5d8-d4077805d6af button.colab-df-convert');\n",
              "      buttonEl.style.display =\n",
              "        google.colab.kernel.accessAllowed ? 'block' : 'none';\n",
              "\n",
              "      async function convertToInteractive(key) {\n",
              "        const element = document.querySelector('#df-004e44fa-6358-48a4-b5d8-d4077805d6af');\n",
              "        const dataTable =\n",
              "          await google.colab.kernel.invokeFunction('convertToInteractive',\n",
              "                                                    [key], {});\n",
              "        if (!dataTable) return;\n",
              "\n",
              "        const docLinkHtml = 'Like what you see? Visit the ' +\n",
              "          '<a target=\"_blank\" href=https://colab.research.google.com/notebooks/data_table.ipynb>data table notebook</a>'\n",
              "          + ' to learn more about interactive tables.';\n",
              "        element.innerHTML = '';\n",
              "        dataTable['output_type'] = 'display_data';\n",
              "        await google.colab.output.renderOutput(dataTable, element);\n",
              "        const docLink = document.createElement('div');\n",
              "        docLink.innerHTML = docLinkHtml;\n",
              "        element.appendChild(docLink);\n",
              "      }\n",
              "    </script>\n",
              "  </div>\n",
              "\n",
              "\n",
              "<div id=\"df-002d569f-e4b4-448d-ba5e-f08e729d182c\">\n",
              "  <button class=\"colab-df-quickchart\" onclick=\"quickchart('df-002d569f-e4b4-448d-ba5e-f08e729d182c')\"\n",
              "            title=\"Suggest charts\"\n",
              "            style=\"display:none;\">\n",
              "\n",
              "<svg xmlns=\"http://www.w3.org/2000/svg\" height=\"24px\"viewBox=\"0 0 24 24\"\n",
              "     width=\"24px\">\n",
              "    <g>\n",
              "        <path d=\"M19 3H5c-1.1 0-2 .9-2 2v14c0 1.1.9 2 2 2h14c1.1 0 2-.9 2-2V5c0-1.1-.9-2-2-2zM9 17H7v-7h2v7zm4 0h-2V7h2v10zm4 0h-2v-4h2v4z\"/>\n",
              "    </g>\n",
              "</svg>\n",
              "  </button>\n",
              "\n",
              "<style>\n",
              "  .colab-df-quickchart {\n",
              "      --bg-color: #E8F0FE;\n",
              "      --fill-color: #1967D2;\n",
              "      --hover-bg-color: #E2EBFA;\n",
              "      --hover-fill-color: #174EA6;\n",
              "      --disabled-fill-color: #AAA;\n",
              "      --disabled-bg-color: #DDD;\n",
              "  }\n",
              "\n",
              "  [theme=dark] .colab-df-quickchart {\n",
              "      --bg-color: #3B4455;\n",
              "      --fill-color: #D2E3FC;\n",
              "      --hover-bg-color: #434B5C;\n",
              "      --hover-fill-color: #FFFFFF;\n",
              "      --disabled-bg-color: #3B4455;\n",
              "      --disabled-fill-color: #666;\n",
              "  }\n",
              "\n",
              "  .colab-df-quickchart {\n",
              "    background-color: var(--bg-color);\n",
              "    border: none;\n",
              "    border-radius: 50%;\n",
              "    cursor: pointer;\n",
              "    display: none;\n",
              "    fill: var(--fill-color);\n",
              "    height: 32px;\n",
              "    padding: 0;\n",
              "    width: 32px;\n",
              "  }\n",
              "\n",
              "  .colab-df-quickchart:hover {\n",
              "    background-color: var(--hover-bg-color);\n",
              "    box-shadow: 0 1px 2px rgba(60, 64, 67, 0.3), 0 1px 3px 1px rgba(60, 64, 67, 0.15);\n",
              "    fill: var(--button-hover-fill-color);\n",
              "  }\n",
              "\n",
              "  .colab-df-quickchart-complete:disabled,\n",
              "  .colab-df-quickchart-complete:disabled:hover {\n",
              "    background-color: var(--disabled-bg-color);\n",
              "    fill: var(--disabled-fill-color);\n",
              "    box-shadow: none;\n",
              "  }\n",
              "\n",
              "  .colab-df-spinner {\n",
              "    border: 2px solid var(--fill-color);\n",
              "    border-color: transparent;\n",
              "    border-bottom-color: var(--fill-color);\n",
              "    animation:\n",
              "      spin 1s steps(1) infinite;\n",
              "  }\n",
              "\n",
              "  @keyframes spin {\n",
              "    0% {\n",
              "      border-color: transparent;\n",
              "      border-bottom-color: var(--fill-color);\n",
              "      border-left-color: var(--fill-color);\n",
              "    }\n",
              "    20% {\n",
              "      border-color: transparent;\n",
              "      border-left-color: var(--fill-color);\n",
              "      border-top-color: var(--fill-color);\n",
              "    }\n",
              "    30% {\n",
              "      border-color: transparent;\n",
              "      border-left-color: var(--fill-color);\n",
              "      border-top-color: var(--fill-color);\n",
              "      border-right-color: var(--fill-color);\n",
              "    }\n",
              "    40% {\n",
              "      border-color: transparent;\n",
              "      border-right-color: var(--fill-color);\n",
              "      border-top-color: var(--fill-color);\n",
              "    }\n",
              "    60% {\n",
              "      border-color: transparent;\n",
              "      border-right-color: var(--fill-color);\n",
              "    }\n",
              "    80% {\n",
              "      border-color: transparent;\n",
              "      border-right-color: var(--fill-color);\n",
              "      border-bottom-color: var(--fill-color);\n",
              "    }\n",
              "    90% {\n",
              "      border-color: transparent;\n",
              "      border-bottom-color: var(--fill-color);\n",
              "    }\n",
              "  }\n",
              "</style>\n",
              "\n",
              "  <script>\n",
              "    async function quickchart(key) {\n",
              "      const quickchartButtonEl =\n",
              "        document.querySelector('#' + key + ' button');\n",
              "      quickchartButtonEl.disabled = true;  // To prevent multiple clicks.\n",
              "      quickchartButtonEl.classList.add('colab-df-spinner');\n",
              "      try {\n",
              "        const charts = await google.colab.kernel.invokeFunction(\n",
              "            'suggestCharts', [key], {});\n",
              "      } catch (error) {\n",
              "        console.error('Error during call to suggestCharts:', error);\n",
              "      }\n",
              "      quickchartButtonEl.classList.remove('colab-df-spinner');\n",
              "      quickchartButtonEl.classList.add('colab-df-quickchart-complete');\n",
              "    }\n",
              "    (() => {\n",
              "      let quickchartButtonEl =\n",
              "        document.querySelector('#df-002d569f-e4b4-448d-ba5e-f08e729d182c button');\n",
              "      quickchartButtonEl.style.display =\n",
              "        google.colab.kernel.accessAllowed ? 'block' : 'none';\n",
              "    })();\n",
              "  </script>\n",
              "</div>\n",
              "\n",
              "    </div>\n",
              "  </div>\n"
            ],
            "application/vnd.google.colaboratory.intrinsic+json": {
              "type": "dataframe",
              "variable_name": "df",
              "summary": "{\n  \"name\": \"df\",\n  \"rows\": 5175,\n  \"fields\": [\n    {\n      \"column\": \"top_bigrams\",\n      \"properties\": {\n        \"dtype\": \"object\",\n        \"semantic_type\": \"\",\n        \"description\": \"\"\n      }\n    },\n    {\n      \"column\": \"Clase\",\n      \"properties\": {\n        \"dtype\": \"category\",\n        \"num_unique_values\": 2,\n        \"samples\": [\n          \"False\",\n          \"True\"\n        ],\n        \"semantic_type\": \"\",\n        \"description\": \"\"\n      }\n    }\n  ]\n}"
            }
          },
          "metadata": {},
          "execution_count": 76
        }
      ]
    },
    {
      "cell_type": "markdown",
      "source": [
        "ya que para entrenar el modelo de naivesbayes se debe pasarle una lista de clave:valor entonces se crea un diccionario."
      ],
      "metadata": {
        "id": "gCr1ApgFALJ0"
      }
    },
    {
      "cell_type": "code",
      "source": [
        "\n",
        "#Si el bigrama está presente en el documento, el valor asociado en el diccionario de atributos será 'True', de lo contrario será 'False'.\n",
        "def documento_atributo_bigram(top_bigrams):\n",
        "\n",
        "    atrib = {} # diccionario de atributos\n",
        "\n",
        "    for bigrama in top_bigrams: # obtenemos los bigramas de la lista.\n",
        "\n",
        "        atrib[f\"contains({bigrama})\"] = bigrama # agregamos las colocaciones con la estructura clave:valor\n",
        "\n",
        "    return atrib # retornamos el diccionario\n",
        "\n"
      ],
      "metadata": {
        "id": "xHk49HG8gFkQ"
      },
      "execution_count": 151,
      "outputs": []
    },
    {
      "cell_type": "markdown",
      "source": [
        "# Vamos a preparar el dataset"
      ],
      "metadata": {
        "id": "urI-KldU3RPx"
      }
    },
    {
      "cell_type": "markdown",
      "source": [
        "Ya que tenemos mas de un corpus vamos a utilizar el corpus 1 solo para entrenar los datos y los restantes de prueba, con el fin de ver de manera precisa las metricas de validación."
      ],
      "metadata": {
        "id": "b6Ty3Db13Vcg"
      }
    },
    {
      "cell_type": "code",
      "source": [
        "#Tomando los bigramas mas repetidos por frecuencia\n",
        "\n",
        "fset_corpus_bigram_freq = [(documento_atributo_bigram(top_bigrams),\n",
        "         clase) for top_bigrams,clase in zip(df[\"top_bigrams\"],df[\"Clase\"])] # aqui utilizamos la funcion para crear el diccionario.\n",
        "\n",
        "random.shuffle(fset_corpus_bigram_freq) # volvemos aplicar random\n",
        "train = fset_corpus_bigram_freq[:]\n"
      ],
      "metadata": {
        "id": "JTfRT4QZpdNZ"
      },
      "execution_count": 78,
      "outputs": []
    },
    {
      "cell_type": "code",
      "source": [
        "train[:2]"
      ],
      "metadata": {
        "colab": {
          "base_uri": "https://localhost:8080/"
        },
        "id": "00H65u-Quyse",
        "outputId": "6846987e-089f-421f-e153-a82db1b63adf"
      },
      "execution_count": 79,
      "outputs": [
        {
          "output_type": "execute_result",
          "data": {
            "text/plain": [
              "[({\"contains((('Subject', 'software'), 1))\": (('Subject', 'software'), 1),\n",
              "   \"contains((('rush', 'undr'), 1))\": (('rush', 'undr'), 1),\n",
              "   \"contains((('undr', 'software'), 1))\": (('undr', 'software'), 1),\n",
              "   \"contains((('software', 'paradise'), 1))\": (('software', 'paradise'), 1),\n",
              "   \"contains((('paradise', 'honest'), 1))\": (('paradise', 'honest'), 1)},\n",
              "  'False'),\n",
              " ({\"contains((('Subject', 'viagra'), 1))\": (('Subject', 'viagra'), 1),\n",
              "   \"contains((('viagra', 'helps'), 1))\": (('viagra', 'helps'), 1),\n",
              "   \"contains((('helps', 'great'), 1))\": (('helps', 'great'), 1),\n",
              "   \"contains((('help', 'suspicious'), 1))\": (('help', 'suspicious'), 1),\n",
              "   \"contains((('suspicious', 'mind'), 1))\": (('suspicious', 'mind'), 1)},\n",
              "  'False')]"
            ]
          },
          "metadata": {},
          "execution_count": 79
        }
      ]
    },
    {
      "cell_type": "markdown",
      "source": [
        "## Vamos a entrenar el modelo"
      ],
      "metadata": {
        "id": "EY5ekGdy5r-G"
      }
    },
    {
      "cell_type": "markdown",
      "source": [
        "Vamos a utilizar NaiveBayes que utiliza la logica de probabilidades de la regla de bayes."
      ],
      "metadata": {
        "id": "FSXnc0Nu5--x"
      }
    },
    {
      "cell_type": "code",
      "source": [
        "from nltk.classify import NaiveBayesClassifier # traemos el modelo de nltk\n",
        "from nltk.classify import accuracy as ac\n",
        "from nltk.metrics.scores import recall, precision, accuracy"
      ],
      "metadata": {
        "id": "Gp6MnxRf5qig"
      },
      "execution_count": 80,
      "outputs": []
    },
    {
      "cell_type": "code",
      "source": [
        "clasif = NaiveBayesClassifier.train(train) # creamos la intancia y entrenamos el modelo con train"
      ],
      "metadata": {
        "id": "jjNwepdQaAiF"
      },
      "execution_count": 81,
      "outputs": []
    },
    {
      "cell_type": "markdown",
      "source": [
        "## Vamos a utilizar correos de prueba para verificar como se comporta, para eso vamos a utilizar algun otro corpus."
      ],
      "metadata": {
        "id": "tUhEwqu4klsZ"
      }
    },
    {
      "cell_type": "markdown",
      "source": [
        "Este codigo sigue la misma logica para el corpus 1 ya que debemos obtener la misma estructura de clave:valor."
      ],
      "metadata": {
        "id": "_Db7sn8-CkOk"
      }
    },
    {
      "cell_type": "code",
      "source": [
        "from nltk.util import bigrams\n",
        "\n",
        "ruta = \"/content/datasets/email/plaintext/corpus3.zip\" # este es un corpus 3 de correos en inglish\n",
        "\n",
        "data = []\n",
        "\n",
        "with zipfile.ZipFile(ruta, mode=\"r\") as corpus:\n",
        "    for file in corpus.namelist():\n",
        "        with corpus.open(file) as f:\n",
        "            text = f.read().decode('ISO-8859-1')  # Decodificar el texto\n",
        "            if text.strip():  # Verificar si el texto no está vacío\n",
        "\n",
        "                tokens = nltk.regexp_tokenize(text,pattern) # tokenizar y realizar filtro con expresión regulares\n",
        "                # Filtrar palabras que no están en stop words y que tienen más de 4 caracteres\n",
        "                long_words = [palabra for palabra in tokens if palabra.lower() not in stop_words and len(palabra) > 2] # aqui estamos sacando las palabras que no estan en stopwords y ademas con longitud mayor a dos\n",
        "\n",
        "                bigramas = list(bigrams(long_words))\n",
        "                bandera = 3\n",
        "                fil_bigramas = [bigrams for bigrams in bigramas if len(bigrams[0]) > bandera and len(bigrams[1]) > bandera]\n",
        "                fdistBigrams = nltk.FreqDist(fil_bigramas)\n",
        "                top_bigrams = fdistBigrams.most_common(5)\n",
        "\n",
        "                # # Etiquetar el archivo según su clase (ham o spam)\n",
        "                # #label = 'ham' if 'ham' in file else 'spam'\n",
        "                label = 'True' if 'ham' in file else 'False'\n",
        "\n",
        "                data.append((top_bigrams,label))\n",
        "                random.shuffle(data)\n",
        "\n",
        "\n",
        "fset_corpus_test = [(documento_atributo_bigram(top_bigrams),\n",
        "         clase) for top_bigrams,clase in zip(df[\"top_bigrams\"],df[\"Clase\"])]\n",
        "\n",
        "random.shuffle(fset_corpus_test)\n",
        "\n"
      ],
      "metadata": {
        "id": "8bSHsJXTsKjB"
      },
      "execution_count": 82,
      "outputs": []
    },
    {
      "cell_type": "code",
      "source": [
        "fset_corpus_test[:2] # aqui teneos los primeros 2 datos"
      ],
      "metadata": {
        "colab": {
          "base_uri": "https://localhost:8080/"
        },
        "id": "hgMmhIZutPv2",
        "outputId": "e46006cc-b222-4211-f2df-d45a89a3ad51"
      },
      "execution_count": 83,
      "outputs": [
        {
          "output_type": "execute_result",
          "data": {
            "text/plain": [
              "[({\"contains((('timing', 'audit'), 2))\": (('timing', 'audit'), 2),\n",
              "   \"contains((('corp', 'enron'), 2))\": (('corp', 'enron'), 2),\n",
              "   \"contains((('enron', 'enron'), 2))\": (('enron', 'enron'), 2),\n",
              "   \"contains((('Subject', 'timing'), 1))\": (('Subject', 'timing'), 1),\n",
              "   \"contains((('audit', 'forwarding'), 1))\": (('audit', 'forwarding'), 1)},\n",
              "  'True'),\n",
              " ({\"contains((('Subject', 'perfect'), 1))\": (('Subject', 'perfect'), 1),\n",
              "   \"contains((('perfect', 'visual'), 1))\": (('perfect', 'visual'), 1),\n",
              "   \"contains((('visual', 'solution'), 1))\": (('visual', 'solution'), 1),\n",
              "   \"contains((('solution', 'business'), 1))\": (('solution', 'business'), 1),\n",
              "   \"contains((('business', 'working'), 1))\": (('business', 'working'), 1)},\n",
              "  'False')]"
            ]
          },
          "metadata": {},
          "execution_count": 83
        }
      ]
    },
    {
      "cell_type": "code",
      "source": [
        "clasif.classify(fset_corpus_test[5][0]) # aqui utilizamos un solo dato son etiqueta para prediccir el resultado."
      ],
      "metadata": {
        "colab": {
          "base_uri": "https://localhost:8080/",
          "height": 35
        },
        "id": "eFwH8FgI2e0N",
        "outputId": "c0bdc45a-ac69-4b8c-ac2f-56f49abdffe6"
      },
      "execution_count": 84,
      "outputs": [
        {
          "output_type": "execute_result",
          "data": {
            "text/plain": [
              "'False'"
            ],
            "application/vnd.google.colaboratory.intrinsic+json": {
              "type": "string"
            }
          },
          "metadata": {},
          "execution_count": 84
        }
      ]
    },
    {
      "cell_type": "code",
      "source": [
        "ac(clasif,fset_corpus_test) # metrica de accuracy utilzando el clasif creado y el corpus 3 o 2"
      ],
      "metadata": {
        "colab": {
          "base_uri": "https://localhost:8080/"
        },
        "id": "EEDC7_Jts3WJ",
        "outputId": "8eaaaef2-37cc-476d-ee68-ed438e575086"
      },
      "execution_count": 85,
      "outputs": [
        {
          "output_type": "execute_result",
          "data": {
            "text/plain": [
              "0.9969082125603864"
            ]
          },
          "metadata": {},
          "execution_count": 85
        }
      ]
    },
    {
      "cell_type": "markdown",
      "source": [
        "<font size=\"+2\"> Podemos apreciar que con los datos del corpus 2 y corpus 3 obtenemos resultados de presición favorables. tener presente que la accuracy es es la proporción de instancias clasificadas correctamente, tanto positivas como negativas, sobre el total de instancias.</font>"
      ],
      "metadata": {
        "id": "MLrpsNmfD2Nk"
      }
    }
  ]
}